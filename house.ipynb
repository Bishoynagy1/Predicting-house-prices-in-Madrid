{
 "cells": [
  {
   "cell_type": "code",
   "execution_count": 1,
   "metadata": {},
   "outputs": [],
   "source": [
    "import pandas as pd\n",
    "import seaborn as sns\n",
    "import numpy as np\n",
    "from matplotlib import pyplot as plt\n",
    "import plotly_express as px\n",
    "pd.options.display.max_columns=None\n",
    "pd.options.display.max_rows=None\n",
    "\n",
    "from sklearn.model_selection import train_test_split\n",
    "from xgboost import XGBRegressor\n",
    "\n",
    "from sklearn.metrics import r2_score\n",
    "from sklearn.metrics import mean_absolute_error"
   ]
  },
  {
   "cell_type": "code",
   "execution_count": 2,
   "metadata": {},
   "outputs": [],
   "source": [
    "data =pd.read_csv('houses_Madrid.csv',encoding='latin-1')"
   ]
  },
  {
   "cell_type": "code",
   "execution_count": 3,
   "metadata": {},
   "outputs": [
    {
     "name": "stdout",
     "output_type": "stream",
     "text": [
      "<class 'pandas.core.frame.DataFrame'>\n",
      "RangeIndex: 21742 entries, 0 to 21741\n",
      "Data columns (total 58 columns):\n",
      " #   Column                        Non-Null Count  Dtype  \n",
      "---  ------                        --------------  -----  \n",
      " 0   Unnamed: 0                    21742 non-null  int64  \n",
      " 1   id                            21742 non-null  int64  \n",
      " 2   title                         21742 non-null  object \n",
      " 3   subtitle                      21742 non-null  object \n",
      " 4   sq_mt_built                   21616 non-null  float64\n",
      " 5   sq_mt_useful                  8228 non-null   float64\n",
      " 6   n_rooms                       21742 non-null  int64  \n",
      " 7   n_bathrooms                   21726 non-null  float64\n",
      " 8   n_floors                      1437 non-null   float64\n",
      " 9   sq_mt_allotment               1432 non-null   float64\n",
      " 10  latitude                      0 non-null      float64\n",
      " 11  longitude                     0 non-null      float64\n",
      " 12  raw_address                   16277 non-null  object \n",
      " 13  is_exact_address_hidden       21742 non-null  bool   \n",
      " 14  street_name                   15837 non-null  object \n",
      " 15  street_number                 6300 non-null   object \n",
      " 16  portal                        0 non-null      float64\n",
      " 17  floor                         19135 non-null  object \n",
      " 18  is_floor_under                20572 non-null  object \n",
      " 19  door                          0 non-null      float64\n",
      " 20  neighborhood_id               21742 non-null  object \n",
      " 21  operation                     21742 non-null  object \n",
      " 22  rent_price                    21742 non-null  int64  \n",
      " 23  rent_price_by_area            0 non-null      float64\n",
      " 24  is_rent_price_known           21742 non-null  bool   \n",
      " 25  buy_price                     21742 non-null  int64  \n",
      " 26  buy_price_by_area             21742 non-null  int64  \n",
      " 27  is_buy_price_known            21742 non-null  bool   \n",
      " 28  house_type_id                 21351 non-null  object \n",
      " 29  is_renewal_needed             21742 non-null  bool   \n",
      " 30  is_new_development            20750 non-null  object \n",
      " 31  built_year                    10000 non-null  float64\n",
      " 32  has_central_heating           13608 non-null  object \n",
      " 33  has_individual_heating        13608 non-null  object \n",
      " 34  are_pets_allowed              0 non-null      float64\n",
      " 35  has_ac                        11211 non-null  object \n",
      " 36  has_fitted_wardrobes          13399 non-null  object \n",
      " 37  has_lift                      19356 non-null  object \n",
      " 38  is_exterior                   18699 non-null  object \n",
      " 39  has_garden                    1556 non-null   object \n",
      " 40  has_pool                      5171 non-null   object \n",
      " 41  has_terrace                   9548 non-null   object \n",
      " 42  has_balcony                   3321 non-null   object \n",
      " 43  has_storage_room              7698 non-null   object \n",
      " 44  is_furnished                  0 non-null      float64\n",
      " 45  is_kitchen_equipped           0 non-null      float64\n",
      " 46  is_accessible                 4074 non-null   object \n",
      " 47  has_green_zones               4057 non-null   object \n",
      " 48  energy_certificate            21742 non-null  object \n",
      " 49  has_parking                   21742 non-null  bool   \n",
      " 50  has_private_parking           0 non-null      float64\n",
      " 51  has_public_parking            0 non-null      float64\n",
      " 52  is_parking_included_in_price  7719 non-null   object \n",
      " 53  parking_price                 7719 non-null   float64\n",
      " 54  is_orientation_north          11358 non-null  object \n",
      " 55  is_orientation_west           11358 non-null  object \n",
      " 56  is_orientation_south          11358 non-null  object \n",
      " 57  is_orientation_east           11358 non-null  object \n",
      "dtypes: bool(5), float64(17), int64(6), object(30)\n",
      "memory usage: 8.9+ MB\n"
     ]
    }
   ],
   "source": [
    "data.info()"
   ]
  },
  {
   "cell_type": "markdown",
   "metadata": {},
   "source": [
    "Explor"
   ]
  },
  {
   "cell_type": "code",
   "execution_count": 4,
   "metadata": {},
   "outputs": [
    {
     "data": {
      "text/plain": [
       "0"
      ]
     },
     "execution_count": 4,
     "metadata": {},
     "output_type": "execute_result"
    }
   ],
   "source": [
    "data.duplicated().sum()"
   ]
  },
  {
   "cell_type": "code",
   "execution_count": 5,
   "metadata": {},
   "outputs": [
    {
     "data": {
      "text/plain": [
       "Unnamed: 0                          0\n",
       "id                                  0\n",
       "title                               0\n",
       "subtitle                            0\n",
       "sq_mt_built                       126\n",
       "sq_mt_useful                    13514\n",
       "n_rooms                             0\n",
       "n_bathrooms                        16\n",
       "n_floors                        20305\n",
       "sq_mt_allotment                 20310\n",
       "latitude                        21742\n",
       "longitude                       21742\n",
       "raw_address                      5465\n",
       "is_exact_address_hidden             0\n",
       "street_name                      5905\n",
       "street_number                   15442\n",
       "portal                          21742\n",
       "floor                            2607\n",
       "is_floor_under                   1170\n",
       "door                            21742\n",
       "neighborhood_id                     0\n",
       "operation                           0\n",
       "rent_price                          0\n",
       "rent_price_by_area              21742\n",
       "is_rent_price_known                 0\n",
       "buy_price                           0\n",
       "buy_price_by_area                   0\n",
       "is_buy_price_known                  0\n",
       "house_type_id                     391\n",
       "is_renewal_needed                   0\n",
       "is_new_development                992\n",
       "built_year                      11742\n",
       "has_central_heating              8134\n",
       "has_individual_heating           8134\n",
       "are_pets_allowed                21742\n",
       "has_ac                          10531\n",
       "has_fitted_wardrobes             8343\n",
       "has_lift                         2386\n",
       "is_exterior                      3043\n",
       "has_garden                      20186\n",
       "has_pool                        16571\n",
       "has_terrace                     12194\n",
       "has_balcony                     18421\n",
       "has_storage_room                14044\n",
       "is_furnished                    21742\n",
       "is_kitchen_equipped             21742\n",
       "is_accessible                   17668\n",
       "has_green_zones                 17685\n",
       "energy_certificate                  0\n",
       "has_parking                         0\n",
       "has_private_parking             21742\n",
       "has_public_parking              21742\n",
       "is_parking_included_in_price    14023\n",
       "parking_price                   14023\n",
       "is_orientation_north            10384\n",
       "is_orientation_west             10384\n",
       "is_orientation_south            10384\n",
       "is_orientation_east             10384\n",
       "dtype: int64"
      ]
     },
     "execution_count": 5,
     "metadata": {},
     "output_type": "execute_result"
    }
   ],
   "source": [
    "data.isnull().sum()"
   ]
  },
  {
   "cell_type": "code",
   "execution_count": 6,
   "metadata": {},
   "outputs": [],
   "source": [
    "data=data.dropna(axis=1,how='all')"
   ]
  },
  {
   "cell_type": "code",
   "execution_count": 7,
   "metadata": {},
   "outputs": [
    {
     "data": {
      "text/plain": [
       "Unnamed: 0                          0\n",
       "id                                  0\n",
       "title                               0\n",
       "subtitle                            0\n",
       "sq_mt_built                       126\n",
       "sq_mt_useful                    13514\n",
       "n_rooms                             0\n",
       "n_bathrooms                        16\n",
       "n_floors                        20305\n",
       "sq_mt_allotment                 20310\n",
       "raw_address                      5465\n",
       "is_exact_address_hidden             0\n",
       "street_name                      5905\n",
       "street_number                   15442\n",
       "floor                            2607\n",
       "is_floor_under                   1170\n",
       "neighborhood_id                     0\n",
       "operation                           0\n",
       "rent_price                          0\n",
       "is_rent_price_known                 0\n",
       "buy_price                           0\n",
       "buy_price_by_area                   0\n",
       "is_buy_price_known                  0\n",
       "house_type_id                     391\n",
       "is_renewal_needed                   0\n",
       "is_new_development                992\n",
       "built_year                      11742\n",
       "has_central_heating              8134\n",
       "has_individual_heating           8134\n",
       "has_ac                          10531\n",
       "has_fitted_wardrobes             8343\n",
       "has_lift                         2386\n",
       "is_exterior                      3043\n",
       "has_garden                      20186\n",
       "has_pool                        16571\n",
       "has_terrace                     12194\n",
       "has_balcony                     18421\n",
       "has_storage_room                14044\n",
       "is_accessible                   17668\n",
       "has_green_zones                 17685\n",
       "energy_certificate                  0\n",
       "has_parking                         0\n",
       "is_parking_included_in_price    14023\n",
       "parking_price                   14023\n",
       "is_orientation_north            10384\n",
       "is_orientation_west             10384\n",
       "is_orientation_south            10384\n",
       "is_orientation_east             10384\n",
       "dtype: int64"
      ]
     },
     "execution_count": 7,
     "metadata": {},
     "output_type": "execute_result"
    }
   ],
   "source": [
    "data.isnull().sum()"
   ]
  },
  {
   "cell_type": "code",
   "execution_count": 8,
   "metadata": {},
   "outputs": [
    {
     "data": {
      "text/plain": [
       "Index(['Unnamed: 0', 'id', 'title', 'subtitle', 'sq_mt_built', 'sq_mt_useful',\n",
       "       'n_rooms', 'n_bathrooms', 'n_floors', 'sq_mt_allotment', 'raw_address',\n",
       "       'is_exact_address_hidden', 'street_name', 'street_number', 'floor',\n",
       "       'is_floor_under', 'neighborhood_id', 'operation', 'rent_price',\n",
       "       'is_rent_price_known', 'buy_price', 'buy_price_by_area',\n",
       "       'is_buy_price_known', 'house_type_id', 'is_renewal_needed',\n",
       "       'is_new_development', 'built_year', 'has_central_heating',\n",
       "       'has_individual_heating', 'has_ac', 'has_fitted_wardrobes', 'has_lift',\n",
       "       'is_exterior', 'has_garden', 'has_pool', 'has_terrace', 'has_balcony',\n",
       "       'has_storage_room', 'is_accessible', 'has_green_zones',\n",
       "       'energy_certificate', 'has_parking', 'is_parking_included_in_price',\n",
       "       'parking_price', 'is_orientation_north', 'is_orientation_west',\n",
       "       'is_orientation_south', 'is_orientation_east'],\n",
       "      dtype='object')"
      ]
     },
     "execution_count": 8,
     "metadata": {},
     "output_type": "execute_result"
    }
   ],
   "source": [
    "data.columns"
   ]
  },
  {
   "cell_type": "code",
   "execution_count": 9,
   "metadata": {},
   "outputs": [],
   "source": [
    "df=data[['id','subtitle','sq_mt_built','n_rooms', 'n_bathrooms','buy_price', 'buy_price_by_area','built_year','rent_price']]"
   ]
  },
  {
   "cell_type": "code",
   "execution_count": 10,
   "metadata": {},
   "outputs": [
    {
     "data": {
      "text/html": [
       "<div>\n",
       "<style scoped>\n",
       "    .dataframe tbody tr th:only-of-type {\n",
       "        vertical-align: middle;\n",
       "    }\n",
       "\n",
       "    .dataframe tbody tr th {\n",
       "        vertical-align: top;\n",
       "    }\n",
       "\n",
       "    .dataframe thead th {\n",
       "        text-align: right;\n",
       "    }\n",
       "</style>\n",
       "<table border=\"1\" class=\"dataframe\">\n",
       "  <thead>\n",
       "    <tr style=\"text-align: right;\">\n",
       "      <th></th>\n",
       "      <th>id</th>\n",
       "      <th>subtitle</th>\n",
       "      <th>sq_mt_built</th>\n",
       "      <th>n_rooms</th>\n",
       "      <th>n_bathrooms</th>\n",
       "      <th>buy_price</th>\n",
       "      <th>buy_price_by_area</th>\n",
       "      <th>built_year</th>\n",
       "      <th>rent_price</th>\n",
       "    </tr>\n",
       "  </thead>\n",
       "  <tbody>\n",
       "    <tr>\n",
       "      <th>0</th>\n",
       "      <td>21742</td>\n",
       "      <td>San CristÃ³bal, Madrid</td>\n",
       "      <td>64.0</td>\n",
       "      <td>2</td>\n",
       "      <td>1.0</td>\n",
       "      <td>85000</td>\n",
       "      <td>1328</td>\n",
       "      <td>1960.0</td>\n",
       "      <td>471</td>\n",
       "    </tr>\n",
       "    <tr>\n",
       "      <th>1</th>\n",
       "      <td>21741</td>\n",
       "      <td>Los Ãngeles, Madrid</td>\n",
       "      <td>70.0</td>\n",
       "      <td>3</td>\n",
       "      <td>1.0</td>\n",
       "      <td>129900</td>\n",
       "      <td>1856</td>\n",
       "      <td>NaN</td>\n",
       "      <td>666</td>\n",
       "    </tr>\n",
       "    <tr>\n",
       "      <th>2</th>\n",
       "      <td>21740</td>\n",
       "      <td>San AndrÃ©s, Madrid</td>\n",
       "      <td>94.0</td>\n",
       "      <td>2</td>\n",
       "      <td>2.0</td>\n",
       "      <td>144247</td>\n",
       "      <td>1535</td>\n",
       "      <td>NaN</td>\n",
       "      <td>722</td>\n",
       "    </tr>\n",
       "    <tr>\n",
       "      <th>3</th>\n",
       "      <td>21739</td>\n",
       "      <td>San AndrÃ©s, Madrid</td>\n",
       "      <td>64.0</td>\n",
       "      <td>2</td>\n",
       "      <td>1.0</td>\n",
       "      <td>109900</td>\n",
       "      <td>1717</td>\n",
       "      <td>1955.0</td>\n",
       "      <td>583</td>\n",
       "    </tr>\n",
       "    <tr>\n",
       "      <th>4</th>\n",
       "      <td>21738</td>\n",
       "      <td>Los Rosales, Madrid</td>\n",
       "      <td>108.0</td>\n",
       "      <td>2</td>\n",
       "      <td>2.0</td>\n",
       "      <td>260000</td>\n",
       "      <td>2407</td>\n",
       "      <td>2003.0</td>\n",
       "      <td>1094</td>\n",
       "    </tr>\n",
       "  </tbody>\n",
       "</table>\n",
       "</div>"
      ],
      "text/plain": [
       "      id                subtitle  sq_mt_built  n_rooms  n_bathrooms  \\\n",
       "0  21742  San CristÃ³bal, Madrid         64.0        2          1.0   \n",
       "1  21741    Los Ãngeles, Madrid         70.0        3          1.0   \n",
       "2  21740     San AndrÃ©s, Madrid         94.0        2          2.0   \n",
       "3  21739     San AndrÃ©s, Madrid         64.0        2          1.0   \n",
       "4  21738     Los Rosales, Madrid        108.0        2          2.0   \n",
       "\n",
       "   buy_price  buy_price_by_area  built_year  rent_price  \n",
       "0      85000               1328      1960.0         471  \n",
       "1     129900               1856         NaN         666  \n",
       "2     144247               1535         NaN         722  \n",
       "3     109900               1717      1955.0         583  \n",
       "4     260000               2407      2003.0        1094  "
      ]
     },
     "execution_count": 10,
     "metadata": {},
     "output_type": "execute_result"
    }
   ],
   "source": [
    "df.head(5)"
   ]
  },
  {
   "cell_type": "code",
   "execution_count": 11,
   "metadata": {},
   "outputs": [
    {
     "name": "stderr",
     "output_type": "stream",
     "text": [
      "C:\\Users\\sch\\AppData\\Local\\Temp\\ipykernel_8908\\3866691226.py:1: SettingWithCopyWarning: \n",
      "A value is trying to be set on a copy of a slice from a DataFrame\n",
      "\n",
      "See the caveats in the documentation: https://pandas.pydata.org/pandas-docs/stable/user_guide/indexing.html#returning-a-view-versus-a-copy\n",
      "  df.rename(columns={'subtitle':'city'},inplace=True)\n"
     ]
    }
   ],
   "source": [
    "df.rename(columns={'subtitle':'city'},inplace=True)"
   ]
  },
  {
   "cell_type": "code",
   "execution_count": 12,
   "metadata": {},
   "outputs": [
    {
     "data": {
      "text/html": [
       "<div>\n",
       "<style scoped>\n",
       "    .dataframe tbody tr th:only-of-type {\n",
       "        vertical-align: middle;\n",
       "    }\n",
       "\n",
       "    .dataframe tbody tr th {\n",
       "        vertical-align: top;\n",
       "    }\n",
       "\n",
       "    .dataframe thead th {\n",
       "        text-align: right;\n",
       "    }\n",
       "</style>\n",
       "<table border=\"1\" class=\"dataframe\">\n",
       "  <thead>\n",
       "    <tr style=\"text-align: right;\">\n",
       "      <th></th>\n",
       "      <th>id</th>\n",
       "      <th>city</th>\n",
       "      <th>sq_mt_built</th>\n",
       "      <th>n_rooms</th>\n",
       "      <th>n_bathrooms</th>\n",
       "      <th>buy_price</th>\n",
       "      <th>buy_price_by_area</th>\n",
       "      <th>built_year</th>\n",
       "      <th>rent_price</th>\n",
       "    </tr>\n",
       "  </thead>\n",
       "  <tbody>\n",
       "    <tr>\n",
       "      <th>11245</th>\n",
       "      <td>10497</td>\n",
       "      <td>Gaztambide, Madrid</td>\n",
       "      <td>376.0</td>\n",
       "      <td>5</td>\n",
       "      <td>4.0</td>\n",
       "      <td>1700000</td>\n",
       "      <td>4521</td>\n",
       "      <td>1955.0</td>\n",
       "      <td>-9067</td>\n",
       "    </tr>\n",
       "    <tr>\n",
       "      <th>6733</th>\n",
       "      <td>15009</td>\n",
       "      <td>Moncloa, Madrid</td>\n",
       "      <td>95.0</td>\n",
       "      <td>2</td>\n",
       "      <td>2.0</td>\n",
       "      <td>439000</td>\n",
       "      <td>4621</td>\n",
       "      <td>1997.0</td>\n",
       "      <td>1528</td>\n",
       "    </tr>\n",
       "    <tr>\n",
       "      <th>20860</th>\n",
       "      <td>882</td>\n",
       "      <td>Chopera, Madrid</td>\n",
       "      <td>75.0</td>\n",
       "      <td>2</td>\n",
       "      <td>1.0</td>\n",
       "      <td>243000</td>\n",
       "      <td>3240</td>\n",
       "      <td>NaN</td>\n",
       "      <td>1047</td>\n",
       "    </tr>\n",
       "    <tr>\n",
       "      <th>13507</th>\n",
       "      <td>8235</td>\n",
       "      <td>Pueblo Nuevo, Madrid</td>\n",
       "      <td>58.0</td>\n",
       "      <td>2</td>\n",
       "      <td>1.0</td>\n",
       "      <td>164000</td>\n",
       "      <td>2828</td>\n",
       "      <td>NaN</td>\n",
       "      <td>795</td>\n",
       "    </tr>\n",
       "  </tbody>\n",
       "</table>\n",
       "</div>"
      ],
      "text/plain": [
       "          id                  city  sq_mt_built  n_rooms  n_bathrooms  \\\n",
       "11245  10497    Gaztambide, Madrid        376.0        5          4.0   \n",
       "6733   15009       Moncloa, Madrid         95.0        2          2.0   \n",
       "20860    882       Chopera, Madrid         75.0        2          1.0   \n",
       "13507   8235  Pueblo Nuevo, Madrid         58.0        2          1.0   \n",
       "\n",
       "       buy_price  buy_price_by_area  built_year  rent_price  \n",
       "11245    1700000               4521      1955.0       -9067  \n",
       "6733      439000               4621      1997.0        1528  \n",
       "20860     243000               3240         NaN        1047  \n",
       "13507     164000               2828         NaN         795  "
      ]
     },
     "execution_count": 12,
     "metadata": {},
     "output_type": "execute_result"
    }
   ],
   "source": [
    "df.sample(4)\n"
   ]
  },
  {
   "cell_type": "code",
   "execution_count": 13,
   "metadata": {},
   "outputs": [
    {
     "name": "stdout",
     "output_type": "stream",
     "text": [
      "<class 'pandas.core.frame.DataFrame'>\n",
      "RangeIndex: 21742 entries, 0 to 21741\n",
      "Data columns (total 9 columns):\n",
      " #   Column             Non-Null Count  Dtype  \n",
      "---  ------             --------------  -----  \n",
      " 0   id                 21742 non-null  int64  \n",
      " 1   city               21742 non-null  object \n",
      " 2   sq_mt_built        21616 non-null  float64\n",
      " 3   n_rooms            21742 non-null  int64  \n",
      " 4   n_bathrooms        21726 non-null  float64\n",
      " 5   buy_price          21742 non-null  int64  \n",
      " 6   buy_price_by_area  21742 non-null  int64  \n",
      " 7   built_year         10000 non-null  float64\n",
      " 8   rent_price         21742 non-null  int64  \n",
      "dtypes: float64(3), int64(5), object(1)\n",
      "memory usage: 1.5+ MB\n"
     ]
    }
   ],
   "source": [
    "   df.info()"
   ]
  },
  {
   "cell_type": "code",
   "execution_count": 14,
   "metadata": {},
   "outputs": [
    {
     "data": {
      "text/plain": [
       "count    21742.000000\n",
       "mean         3.005749\n",
       "std          1.510497\n",
       "min          0.000000\n",
       "25%          2.000000\n",
       "50%          3.000000\n",
       "75%          4.000000\n",
       "max         24.000000\n",
       "Name: n_rooms, dtype: float64"
      ]
     },
     "execution_count": 14,
     "metadata": {},
     "output_type": "execute_result"
    }
   ],
   "source": [
    "df.n_rooms.describe()"
   ]
  },
  {
   "cell_type": "code",
   "execution_count": 15,
   "metadata": {},
   "outputs": [
    {
     "name": "stderr",
     "output_type": "stream",
     "text": [
      "C:\\Users\\sch\\AppData\\Local\\Temp\\ipykernel_8908\\2826541533.py:1: SettingWithCopyWarning: \n",
      "A value is trying to be set on a copy of a slice from a DataFrame\n",
      "\n",
      "See the caveats in the documentation: https://pandas.pydata.org/pandas-docs/stable/user_guide/indexing.html#returning-a-view-versus-a-copy\n",
      "  df.drop(df.index[df.n_rooms==0],axis=0,inplace=True)\n"
     ]
    }
   ],
   "source": [
    "df.drop(df.index[df.n_rooms==0],axis=0,inplace=True)"
   ]
  },
  {
   "cell_type": "code",
   "execution_count": 16,
   "metadata": {},
   "outputs": [
    {
     "data": {
      "text/html": [
       "<div>\n",
       "<style scoped>\n",
       "    .dataframe tbody tr th:only-of-type {\n",
       "        vertical-align: middle;\n",
       "    }\n",
       "\n",
       "    .dataframe tbody tr th {\n",
       "        vertical-align: top;\n",
       "    }\n",
       "\n",
       "    .dataframe thead th {\n",
       "        text-align: right;\n",
       "    }\n",
       "</style>\n",
       "<table border=\"1\" class=\"dataframe\">\n",
       "  <thead>\n",
       "    <tr style=\"text-align: right;\">\n",
       "      <th></th>\n",
       "      <th>id</th>\n",
       "      <th>city</th>\n",
       "      <th>sq_mt_built</th>\n",
       "      <th>n_rooms</th>\n",
       "      <th>n_bathrooms</th>\n",
       "      <th>buy_price</th>\n",
       "      <th>buy_price_by_area</th>\n",
       "      <th>built_year</th>\n",
       "      <th>rent_price</th>\n",
       "    </tr>\n",
       "  </thead>\n",
       "  <tbody>\n",
       "    <tr>\n",
       "      <th>11480</th>\n",
       "      <td>10262</td>\n",
       "      <td>Trafalgar, Madrid</td>\n",
       "      <td>204.0</td>\n",
       "      <td>7</td>\n",
       "      <td>2.0</td>\n",
       "      <td>810000</td>\n",
       "      <td>3971</td>\n",
       "      <td>1991.0</td>\n",
       "      <td>2352</td>\n",
       "    </tr>\n",
       "    <tr>\n",
       "      <th>8772</th>\n",
       "      <td>12970</td>\n",
       "      <td>La Paz, Madrid</td>\n",
       "      <td>55.0</td>\n",
       "      <td>1</td>\n",
       "      <td>1.0</td>\n",
       "      <td>219999</td>\n",
       "      <td>4000</td>\n",
       "      <td>1983.0</td>\n",
       "      <td>979</td>\n",
       "    </tr>\n",
       "    <tr>\n",
       "      <th>256</th>\n",
       "      <td>21486</td>\n",
       "      <td>Villaverde, Madrid</td>\n",
       "      <td>75.0</td>\n",
       "      <td>3</td>\n",
       "      <td>2.0</td>\n",
       "      <td>132000</td>\n",
       "      <td>1760</td>\n",
       "      <td>1961.0</td>\n",
       "      <td>674</td>\n",
       "    </tr>\n",
       "    <tr>\n",
       "      <th>20214</th>\n",
       "      <td>1528</td>\n",
       "      <td>Acacias, Madrid</td>\n",
       "      <td>48.0</td>\n",
       "      <td>2</td>\n",
       "      <td>1.0</td>\n",
       "      <td>215000</td>\n",
       "      <td>4479</td>\n",
       "      <td>NaN</td>\n",
       "      <td>964</td>\n",
       "    </tr>\n",
       "    <tr>\n",
       "      <th>18702</th>\n",
       "      <td>3040</td>\n",
       "      <td>LavapiÃ©s-Embajadores, Madrid</td>\n",
       "      <td>165.0</td>\n",
       "      <td>2</td>\n",
       "      <td>2.0</td>\n",
       "      <td>839000</td>\n",
       "      <td>5085</td>\n",
       "      <td>NaN</td>\n",
       "      <td>2400</td>\n",
       "    </tr>\n",
       "    <tr>\n",
       "      <th>15922</th>\n",
       "      <td>5820</td>\n",
       "      <td>Comillas, Madrid</td>\n",
       "      <td>69.0</td>\n",
       "      <td>2</td>\n",
       "      <td>1.0</td>\n",
       "      <td>199000</td>\n",
       "      <td>2884</td>\n",
       "      <td>1960.0</td>\n",
       "      <td>913</td>\n",
       "    </tr>\n",
       "    <tr>\n",
       "      <th>910</th>\n",
       "      <td>20832</td>\n",
       "      <td>Ambroz, Madrid</td>\n",
       "      <td>65.0</td>\n",
       "      <td>3</td>\n",
       "      <td>1.0</td>\n",
       "      <td>135000</td>\n",
       "      <td>2077</td>\n",
       "      <td>NaN</td>\n",
       "      <td>686</td>\n",
       "    </tr>\n",
       "    <tr>\n",
       "      <th>10937</th>\n",
       "      <td>10805</td>\n",
       "      <td>Trafalgar, Madrid</td>\n",
       "      <td>68.0</td>\n",
       "      <td>2</td>\n",
       "      <td>1.0</td>\n",
       "      <td>510000</td>\n",
       "      <td>7500</td>\n",
       "      <td>NaN</td>\n",
       "      <td>1689</td>\n",
       "    </tr>\n",
       "    <tr>\n",
       "      <th>15954</th>\n",
       "      <td>5788</td>\n",
       "      <td>Buena Vista, Madrid</td>\n",
       "      <td>86.0</td>\n",
       "      <td>3</td>\n",
       "      <td>1.0</td>\n",
       "      <td>127000</td>\n",
       "      <td>1477</td>\n",
       "      <td>1969.0</td>\n",
       "      <td>654</td>\n",
       "    </tr>\n",
       "    <tr>\n",
       "      <th>15750</th>\n",
       "      <td>5992</td>\n",
       "      <td>ChamartÃ­n, Madrid</td>\n",
       "      <td>275.0</td>\n",
       "      <td>3</td>\n",
       "      <td>3.0</td>\n",
       "      <td>2500000</td>\n",
       "      <td>9091</td>\n",
       "      <td>NaN</td>\n",
       "      <td>-104074</td>\n",
       "    </tr>\n",
       "  </tbody>\n",
       "</table>\n",
       "</div>"
      ],
      "text/plain": [
       "          id                           city  sq_mt_built  n_rooms  \\\n",
       "11480  10262              Trafalgar, Madrid        204.0        7   \n",
       "8772   12970                 La Paz, Madrid         55.0        1   \n",
       "256    21486             Villaverde, Madrid         75.0        3   \n",
       "20214   1528                Acacias, Madrid         48.0        2   \n",
       "18702   3040  LavapiÃ©s-Embajadores, Madrid        165.0        2   \n",
       "15922   5820               Comillas, Madrid         69.0        2   \n",
       "910    20832                 Ambroz, Madrid         65.0        3   \n",
       "10937  10805              Trafalgar, Madrid         68.0        2   \n",
       "15954   5788            Buena Vista, Madrid         86.0        3   \n",
       "15750   5992             ChamartÃ­n, Madrid        275.0        3   \n",
       "\n",
       "       n_bathrooms  buy_price  buy_price_by_area  built_year  rent_price  \n",
       "11480          2.0     810000               3971      1991.0        2352  \n",
       "8772           1.0     219999               4000      1983.0         979  \n",
       "256            2.0     132000               1760      1961.0         674  \n",
       "20214          1.0     215000               4479         NaN         964  \n",
       "18702          2.0     839000               5085         NaN        2400  \n",
       "15922          1.0     199000               2884      1960.0         913  \n",
       "910            1.0     135000               2077         NaN         686  \n",
       "10937          1.0     510000               7500         NaN        1689  \n",
       "15954          1.0     127000               1477      1969.0         654  \n",
       "15750          3.0    2500000               9091         NaN     -104074  "
      ]
     },
     "execution_count": 16,
     "metadata": {},
     "output_type": "execute_result"
    }
   ],
   "source": [
    "df.sample(10)"
   ]
  },
  {
   "cell_type": "code",
   "execution_count": 17,
   "metadata": {},
   "outputs": [
    {
     "data": {
      "text/plain": [
       "0    1.0\n",
       "Name: n_bathrooms, dtype: float64"
      ]
     },
     "execution_count": 17,
     "metadata": {},
     "output_type": "execute_result"
    }
   ],
   "source": [
    "df.n_bathrooms.mode()"
   ]
  },
  {
   "cell_type": "code",
   "execution_count": 18,
   "metadata": {},
   "outputs": [
    {
     "data": {
      "text/plain": [
       "<Axes: >"
      ]
     },
     "execution_count": 18,
     "metadata": {},
     "output_type": "execute_result"
    },
    {
     "data": {
      "image/png": "[encoded data removed]",
      "text/plain": [
       "<Figure size 640x480 with 2 Axes>"
      ]
     },
     "metadata": {},
     "output_type": "display_data"
    }
   ],
   "source": [
    "sns.heatmap(df.isnull())"
   ]
  },
  {
   "cell_type": "code",
   "execution_count": 19,
   "metadata": {},
   "outputs": [
    {
     "name": "stderr",
     "output_type": "stream",
     "text": [
      "C:\\Users\\sch\\AppData\\Local\\Temp\\ipykernel_8908\\2043760341.py:1: SettingWithCopyWarning: \n",
      "A value is trying to be set on a copy of a slice from a DataFrame.\n",
      "Try using .loc[row_indexer,col_indexer] = value instead\n",
      "\n",
      "See the caveats in the documentation: https://pandas.pydata.org/pandas-docs/stable/user_guide/indexing.html#returning-a-view-versus-a-copy\n",
      "  df.n_bathrooms=df.n_bathrooms.fillna(1)\n",
      "C:\\Users\\sch\\AppData\\Local\\Temp\\ipykernel_8908\\2043760341.py:2: SettingWithCopyWarning: \n",
      "A value is trying to be set on a copy of a slice from a DataFrame.\n",
      "Try using .loc[row_indexer,col_indexer] = value instead\n",
      "\n",
      "See the caveats in the documentation: https://pandas.pydata.org/pandas-docs/stable/user_guide/indexing.html#returning-a-view-versus-a-copy\n",
      "  df.n_bathrooms=df.n_bathrooms.replace(0,1)\n"
     ]
    }
   ],
   "source": [
    "df.n_bathrooms=df.n_bathrooms.fillna(1)\n",
    "df.n_bathrooms=df.n_bathrooms.replace(0,1)\n",
    "\n"
   ]
  },
  {
   "cell_type": "code",
   "execution_count": 20,
   "metadata": {},
   "outputs": [],
   "source": [
    "import warnings\n",
    "warnings.filterwarnings('ignore')"
   ]
  },
  {
   "cell_type": "code",
   "execution_count": 21,
   "metadata": {},
   "outputs": [
    {
     "data": {
      "text/plain": [
       "id                       0\n",
       "city                     0\n",
       "sq_mt_built            126\n",
       "n_rooms                  0\n",
       "n_bathrooms              0\n",
       "buy_price                0\n",
       "buy_price_by_area        0\n",
       "built_year           11517\n",
       "rent_price               0\n",
       "dtype: int64"
      ]
     },
     "execution_count": 21,
     "metadata": {},
     "output_type": "execute_result"
    }
   ],
   "source": [
    "df.isnull().sum()"
   ]
  },
  {
   "cell_type": "code",
   "execution_count": 22,
   "metadata": {},
   "outputs": [
    {
     "name": "stdout",
     "output_type": "stream",
     "text": [
      "<class 'pandas.core.frame.DataFrame'>\n",
      "Index: 21303 entries, 0 to 21741\n",
      "Data columns (total 9 columns):\n",
      " #   Column             Non-Null Count  Dtype  \n",
      "---  ------             --------------  -----  \n",
      " 0   id                 21303 non-null  int64  \n",
      " 1   city               21303 non-null  object \n",
      " 2   sq_mt_built        21177 non-null  float64\n",
      " 3   n_rooms            21303 non-null  int64  \n",
      " 4   n_bathrooms        21303 non-null  float64\n",
      " 5   buy_price          21303 non-null  int64  \n",
      " 6   buy_price_by_area  21303 non-null  int64  \n",
      " 7   built_year         9786 non-null   float64\n",
      " 8   rent_price         21303 non-null  int64  \n",
      "dtypes: float64(3), int64(5), object(1)\n",
      "memory usage: 1.6+ MB\n"
     ]
    }
   ],
   "source": [
    "df.info()"
   ]
  },
  {
   "cell_type": "code",
   "execution_count": 23,
   "metadata": {},
   "outputs": [],
   "source": [
    "df.n_bathrooms=df.n_bathrooms.astype(int)"
   ]
  },
  {
   "cell_type": "code",
   "execution_count": 24,
   "metadata": {},
   "outputs": [
    {
     "name": "stdout",
     "output_type": "stream",
     "text": [
      "<class 'pandas.core.frame.DataFrame'>\n",
      "Index: 21303 entries, 0 to 21741\n",
      "Data columns (total 9 columns):\n",
      " #   Column             Non-Null Count  Dtype  \n",
      "---  ------             --------------  -----  \n",
      " 0   id                 21303 non-null  int64  \n",
      " 1   city               21303 non-null  object \n",
      " 2   sq_mt_built        21177 non-null  float64\n",
      " 3   n_rooms            21303 non-null  int64  \n",
      " 4   n_bathrooms        21303 non-null  int32  \n",
      " 5   buy_price          21303 non-null  int64  \n",
      " 6   buy_price_by_area  21303 non-null  int64  \n",
      " 7   built_year         9786 non-null   float64\n",
      " 8   rent_price         21303 non-null  int64  \n",
      "dtypes: float64(2), int32(1), int64(5), object(1)\n",
      "memory usage: 1.5+ MB\n"
     ]
    }
   ],
   "source": [
    "df.info()"
   ]
  },
  {
   "cell_type": "code",
   "execution_count": 25,
   "metadata": {},
   "outputs": [],
   "source": [
    "df.dropna(subset='sq_mt_built',inplace=True)"
   ]
  },
  {
   "cell_type": "code",
   "execution_count": 26,
   "metadata": {},
   "outputs": [
    {
     "data": {
      "text/plain": [
       "id                       0\n",
       "city                     0\n",
       "sq_mt_built              0\n",
       "n_rooms                  0\n",
       "n_bathrooms              0\n",
       "buy_price                0\n",
       "buy_price_by_area        0\n",
       "built_year           11445\n",
       "rent_price               0\n",
       "dtype: int64"
      ]
     },
     "execution_count": 26,
     "metadata": {},
     "output_type": "execute_result"
    }
   ],
   "source": [
    "df.isnull().sum()"
   ]
  },
  {
   "cell_type": "code",
   "execution_count": 27,
   "metadata": {},
   "outputs": [
    {
     "data": {
      "text/html": [
       "<div>\n",
       "<style scoped>\n",
       "    .dataframe tbody tr th:only-of-type {\n",
       "        vertical-align: middle;\n",
       "    }\n",
       "\n",
       "    .dataframe tbody tr th {\n",
       "        vertical-align: top;\n",
       "    }\n",
       "\n",
       "    .dataframe thead th {\n",
       "        text-align: right;\n",
       "    }\n",
       "</style>\n",
       "<table border=\"1\" class=\"dataframe\">\n",
       "  <thead>\n",
       "    <tr style=\"text-align: right;\">\n",
       "      <th></th>\n",
       "      <th>id</th>\n",
       "      <th>city</th>\n",
       "      <th>sq_mt_built</th>\n",
       "      <th>n_rooms</th>\n",
       "      <th>n_bathrooms</th>\n",
       "      <th>buy_price</th>\n",
       "      <th>buy_price_by_area</th>\n",
       "      <th>built_year</th>\n",
       "      <th>rent_price</th>\n",
       "    </tr>\n",
       "  </thead>\n",
       "  <tbody>\n",
       "    <tr>\n",
       "      <th>0</th>\n",
       "      <td>21742</td>\n",
       "      <td>San CristÃ³bal, Madrid</td>\n",
       "      <td>64.0</td>\n",
       "      <td>2</td>\n",
       "      <td>1</td>\n",
       "      <td>85000</td>\n",
       "      <td>1328</td>\n",
       "      <td>1960.0</td>\n",
       "      <td>471</td>\n",
       "    </tr>\n",
       "    <tr>\n",
       "      <th>1</th>\n",
       "      <td>21741</td>\n",
       "      <td>Los Ãngeles, Madrid</td>\n",
       "      <td>70.0</td>\n",
       "      <td>3</td>\n",
       "      <td>1</td>\n",
       "      <td>129900</td>\n",
       "      <td>1856</td>\n",
       "      <td>NaN</td>\n",
       "      <td>666</td>\n",
       "    </tr>\n",
       "    <tr>\n",
       "      <th>2</th>\n",
       "      <td>21740</td>\n",
       "      <td>San AndrÃ©s, Madrid</td>\n",
       "      <td>94.0</td>\n",
       "      <td>2</td>\n",
       "      <td>2</td>\n",
       "      <td>144247</td>\n",
       "      <td>1535</td>\n",
       "      <td>NaN</td>\n",
       "      <td>722</td>\n",
       "    </tr>\n",
       "    <tr>\n",
       "      <th>3</th>\n",
       "      <td>21739</td>\n",
       "      <td>San AndrÃ©s, Madrid</td>\n",
       "      <td>64.0</td>\n",
       "      <td>2</td>\n",
       "      <td>1</td>\n",
       "      <td>109900</td>\n",
       "      <td>1717</td>\n",
       "      <td>1955.0</td>\n",
       "      <td>583</td>\n",
       "    </tr>\n",
       "    <tr>\n",
       "      <th>4</th>\n",
       "      <td>21738</td>\n",
       "      <td>Los Rosales, Madrid</td>\n",
       "      <td>108.0</td>\n",
       "      <td>2</td>\n",
       "      <td>2</td>\n",
       "      <td>260000</td>\n",
       "      <td>2407</td>\n",
       "      <td>2003.0</td>\n",
       "      <td>1094</td>\n",
       "    </tr>\n",
       "  </tbody>\n",
       "</table>\n",
       "</div>"
      ],
      "text/plain": [
       "      id                    city  sq_mt_built  n_rooms  n_bathrooms  \\\n",
       "0  21742  San CristÃ³bal, Madrid         64.0        2            1   \n",
       "1  21741    Los Ãngeles, Madrid         70.0        3            1   \n",
       "2  21740     San AndrÃ©s, Madrid         94.0        2            2   \n",
       "3  21739     San AndrÃ©s, Madrid         64.0        2            1   \n",
       "4  21738     Los Rosales, Madrid        108.0        2            2   \n",
       "\n",
       "   buy_price  buy_price_by_area  built_year  rent_price  \n",
       "0      85000               1328      1960.0         471  \n",
       "1     129900               1856         NaN         666  \n",
       "2     144247               1535         NaN         722  \n",
       "3     109900               1717      1955.0         583  \n",
       "4     260000               2407      2003.0        1094  "
      ]
     },
     "execution_count": 27,
     "metadata": {},
     "output_type": "execute_result"
    }
   ],
   "source": [
    "df.head(5)"
   ]
  },
  {
   "cell_type": "code",
   "execution_count": 28,
   "metadata": {},
   "outputs": [
    {
     "data": {
      "text/plain": [
       "id                       0\n",
       "city                     0\n",
       "sq_mt_built              0\n",
       "n_rooms                  0\n",
       "n_bathrooms              0\n",
       "buy_price                0\n",
       "buy_price_by_area        0\n",
       "built_year           11445\n",
       "rent_price               0\n",
       "dtype: int64"
      ]
     },
     "execution_count": 28,
     "metadata": {},
     "output_type": "execute_result"
    }
   ],
   "source": [
    "df.isnull().sum()"
   ]
  },
  {
   "cell_type": "code",
   "execution_count": 29,
   "metadata": {},
   "outputs": [],
   "source": [
    "for value in df.rent_price.values:\n",
    "    if value < 0:\n",
    "        df.rent_price=0"
   ]
  },
  {
   "cell_type": "code",
   "execution_count": 30,
   "metadata": {},
   "outputs": [
    {
     "data": {
      "text/html": [
       "<div>\n",
       "<style scoped>\n",
       "    .dataframe tbody tr th:only-of-type {\n",
       "        vertical-align: middle;\n",
       "    }\n",
       "\n",
       "    .dataframe tbody tr th {\n",
       "        vertical-align: top;\n",
       "    }\n",
       "\n",
       "    .dataframe thead th {\n",
       "        text-align: right;\n",
       "    }\n",
       "</style>\n",
       "<table border=\"1\" class=\"dataframe\">\n",
       "  <thead>\n",
       "    <tr style=\"text-align: right;\">\n",
       "      <th></th>\n",
       "      <th>id</th>\n",
       "      <th>city</th>\n",
       "      <th>sq_mt_built</th>\n",
       "      <th>n_rooms</th>\n",
       "      <th>n_bathrooms</th>\n",
       "      <th>buy_price</th>\n",
       "      <th>buy_price_by_area</th>\n",
       "      <th>built_year</th>\n",
       "      <th>rent_price</th>\n",
       "    </tr>\n",
       "  </thead>\n",
       "  <tbody>\n",
       "  </tbody>\n",
       "</table>\n",
       "</div>"
      ],
      "text/plain": [
       "Empty DataFrame\n",
       "Columns: [id, city, sq_mt_built, n_rooms, n_bathrooms, buy_price, buy_price_by_area, built_year, rent_price]\n",
       "Index: []"
      ]
     },
     "execution_count": 30,
     "metadata": {},
     "output_type": "execute_result"
    }
   ],
   "source": [
    "df[df.rent_price < 0]"
   ]
  },
  {
   "cell_type": "code",
   "execution_count": 31,
   "metadata": {},
   "outputs": [],
   "source": [
    "df['country']=df.city.str.split(',',expand=True)[0]"
   ]
  },
  {
   "cell_type": "code",
   "execution_count": 32,
   "metadata": {},
   "outputs": [
    {
     "data": {
      "text/html": [
       "<div>\n",
       "<style scoped>\n",
       "    .dataframe tbody tr th:only-of-type {\n",
       "        vertical-align: middle;\n",
       "    }\n",
       "\n",
       "    .dataframe tbody tr th {\n",
       "        vertical-align: top;\n",
       "    }\n",
       "\n",
       "    .dataframe thead th {\n",
       "        text-align: right;\n",
       "    }\n",
       "</style>\n",
       "<table border=\"1\" class=\"dataframe\">\n",
       "  <thead>\n",
       "    <tr style=\"text-align: right;\">\n",
       "      <th></th>\n",
       "      <th>id</th>\n",
       "      <th>city</th>\n",
       "      <th>sq_mt_built</th>\n",
       "      <th>n_rooms</th>\n",
       "      <th>n_bathrooms</th>\n",
       "      <th>buy_price</th>\n",
       "      <th>buy_price_by_area</th>\n",
       "      <th>built_year</th>\n",
       "      <th>rent_price</th>\n",
       "      <th>country</th>\n",
       "    </tr>\n",
       "  </thead>\n",
       "  <tbody>\n",
       "    <tr>\n",
       "      <th>0</th>\n",
       "      <td>21742</td>\n",
       "      <td>San CristÃ³bal, Madrid</td>\n",
       "      <td>64.0</td>\n",
       "      <td>2</td>\n",
       "      <td>1</td>\n",
       "      <td>85000</td>\n",
       "      <td>1328</td>\n",
       "      <td>1960.0</td>\n",
       "      <td>0</td>\n",
       "      <td>San CristÃ³bal</td>\n",
       "    </tr>\n",
       "    <tr>\n",
       "      <th>1</th>\n",
       "      <td>21741</td>\n",
       "      <td>Los Ãngeles, Madrid</td>\n",
       "      <td>70.0</td>\n",
       "      <td>3</td>\n",
       "      <td>1</td>\n",
       "      <td>129900</td>\n",
       "      <td>1856</td>\n",
       "      <td>NaN</td>\n",
       "      <td>0</td>\n",
       "      <td>Los Ãngeles</td>\n",
       "    </tr>\n",
       "    <tr>\n",
       "      <th>2</th>\n",
       "      <td>21740</td>\n",
       "      <td>San AndrÃ©s, Madrid</td>\n",
       "      <td>94.0</td>\n",
       "      <td>2</td>\n",
       "      <td>2</td>\n",
       "      <td>144247</td>\n",
       "      <td>1535</td>\n",
       "      <td>NaN</td>\n",
       "      <td>0</td>\n",
       "      <td>San AndrÃ©s</td>\n",
       "    </tr>\n",
       "    <tr>\n",
       "      <th>3</th>\n",
       "      <td>21739</td>\n",
       "      <td>San AndrÃ©s, Madrid</td>\n",
       "      <td>64.0</td>\n",
       "      <td>2</td>\n",
       "      <td>1</td>\n",
       "      <td>109900</td>\n",
       "      <td>1717</td>\n",
       "      <td>1955.0</td>\n",
       "      <td>0</td>\n",
       "      <td>San AndrÃ©s</td>\n",
       "    </tr>\n",
       "    <tr>\n",
       "      <th>4</th>\n",
       "      <td>21738</td>\n",
       "      <td>Los Rosales, Madrid</td>\n",
       "      <td>108.0</td>\n",
       "      <td>2</td>\n",
       "      <td>2</td>\n",
       "      <td>260000</td>\n",
       "      <td>2407</td>\n",
       "      <td>2003.0</td>\n",
       "      <td>0</td>\n",
       "      <td>Los Rosales</td>\n",
       "    </tr>\n",
       "  </tbody>\n",
       "</table>\n",
       "</div>"
      ],
      "text/plain": [
       "      id                    city  sq_mt_built  n_rooms  n_bathrooms  \\\n",
       "0  21742  San CristÃ³bal, Madrid         64.0        2            1   \n",
       "1  21741    Los Ãngeles, Madrid         70.0        3            1   \n",
       "2  21740     San AndrÃ©s, Madrid         94.0        2            2   \n",
       "3  21739     San AndrÃ©s, Madrid         64.0        2            1   \n",
       "4  21738     Los Rosales, Madrid        108.0        2            2   \n",
       "\n",
       "   buy_price  buy_price_by_area  built_year  rent_price         country  \n",
       "0      85000               1328      1960.0           0  San CristÃ³bal  \n",
       "1     129900               1856         NaN           0    Los Ãngeles  \n",
       "2     144247               1535         NaN           0     San AndrÃ©s  \n",
       "3     109900               1717      1955.0           0     San AndrÃ©s  \n",
       "4     260000               2407      2003.0           0     Los Rosales  "
      ]
     },
     "execution_count": 32,
     "metadata": {},
     "output_type": "execute_result"
    }
   ],
   "source": [
    "df.head(5)"
   ]
  },
  {
   "cell_type": "code",
   "execution_count": 33,
   "metadata": {},
   "outputs": [
    {
     "name": "stdout",
     "output_type": "stream",
     "text": [
      "<class 'pandas.core.frame.DataFrame'>\n",
      "Index: 21177 entries, 0 to 21741\n",
      "Data columns (total 10 columns):\n",
      " #   Column             Non-Null Count  Dtype  \n",
      "---  ------             --------------  -----  \n",
      " 0   id                 21177 non-null  int64  \n",
      " 1   city               21177 non-null  object \n",
      " 2   sq_mt_built        21177 non-null  float64\n",
      " 3   n_rooms            21177 non-null  int64  \n",
      " 4   n_bathrooms        21177 non-null  int32  \n",
      " 5   buy_price          21177 non-null  int64  \n",
      " 6   buy_price_by_area  21177 non-null  int64  \n",
      " 7   built_year         9732 non-null   float64\n",
      " 8   rent_price         21177 non-null  int64  \n",
      " 9   country            21177 non-null  object \n",
      "dtypes: float64(2), int32(1), int64(5), object(2)\n",
      "memory usage: 1.7+ MB\n"
     ]
    }
   ],
   "source": [
    "df.info()"
   ]
  },
  {
   "cell_type": "code",
   "execution_count": 34,
   "metadata": {},
   "outputs": [],
   "source": [
    "df.drop(columns=['built_year'],inplace=True)"
   ]
  },
  {
   "cell_type": "code",
   "execution_count": 35,
   "metadata": {},
   "outputs": [
    {
     "name": "stdout",
     "output_type": "stream",
     "text": [
      "<class 'pandas.core.frame.DataFrame'>\n",
      "Index: 21177 entries, 0 to 21741\n",
      "Data columns (total 9 columns):\n",
      " #   Column             Non-Null Count  Dtype  \n",
      "---  ------             --------------  -----  \n",
      " 0   id                 21177 non-null  int64  \n",
      " 1   city               21177 non-null  object \n",
      " 2   sq_mt_built        21177 non-null  float64\n",
      " 3   n_rooms            21177 non-null  int64  \n",
      " 4   n_bathrooms        21177 non-null  int32  \n",
      " 5   buy_price          21177 non-null  int64  \n",
      " 6   buy_price_by_area  21177 non-null  int64  \n",
      " 7   rent_price         21177 non-null  int64  \n",
      " 8   country            21177 non-null  object \n",
      "dtypes: float64(1), int32(1), int64(5), object(2)\n",
      "memory usage: 1.5+ MB\n"
     ]
    }
   ],
   "source": [
    "df.info()"
   ]
  },
  {
   "cell_type": "code",
   "execution_count": 36,
   "metadata": {},
   "outputs": [
    {
     "data": {
      "text/plain": [
       "id                   0\n",
       "city                 0\n",
       "sq_mt_built          0\n",
       "n_rooms              0\n",
       "n_bathrooms          0\n",
       "buy_price            0\n",
       "buy_price_by_area    0\n",
       "rent_price           0\n",
       "country              0\n",
       "dtype: int64"
      ]
     },
     "execution_count": 36,
     "metadata": {},
     "output_type": "execute_result"
    }
   ],
   "source": [
    "df.isnull().sum()"
   ]
  },
  {
   "cell_type": "code",
   "execution_count": 37,
   "metadata": {},
   "outputs": [],
   "source": [
    "df.to_csv('mad_clean.csv')"
   ]
  },
  {
   "cell_type": "markdown",
   "metadata": {},
   "source": [
    "Analysis"
   ]
  },
  {
   "cell_type": "markdown",
   "metadata": {},
   "source": [
    "uni"
   ]
  },
  {
   "cell_type": "code",
   "execution_count": 38,
   "metadata": {},
   "outputs": [
    {
     "data": {
      "text/html": [
       "<div>\n",
       "<style scoped>\n",
       "    .dataframe tbody tr th:only-of-type {\n",
       "        vertical-align: middle;\n",
       "    }\n",
       "\n",
       "    .dataframe tbody tr th {\n",
       "        vertical-align: top;\n",
       "    }\n",
       "\n",
       "    .dataframe thead th {\n",
       "        text-align: right;\n",
       "    }\n",
       "</style>\n",
       "<table border=\"1\" class=\"dataframe\">\n",
       "  <thead>\n",
       "    <tr style=\"text-align: right;\">\n",
       "      <th></th>\n",
       "      <th>id</th>\n",
       "      <th>city</th>\n",
       "      <th>sq_mt_built</th>\n",
       "      <th>n_rooms</th>\n",
       "      <th>n_bathrooms</th>\n",
       "      <th>buy_price</th>\n",
       "      <th>buy_price_by_area</th>\n",
       "      <th>rent_price</th>\n",
       "      <th>country</th>\n",
       "    </tr>\n",
       "  </thead>\n",
       "  <tbody>\n",
       "    <tr>\n",
       "      <th>0</th>\n",
       "      <td>21742</td>\n",
       "      <td>San CristÃ³bal, Madrid</td>\n",
       "      <td>64.0</td>\n",
       "      <td>2</td>\n",
       "      <td>1</td>\n",
       "      <td>85000</td>\n",
       "      <td>1328</td>\n",
       "      <td>0</td>\n",
       "      <td>San CristÃ³bal</td>\n",
       "    </tr>\n",
       "    <tr>\n",
       "      <th>1</th>\n",
       "      <td>21741</td>\n",
       "      <td>Los Ãngeles, Madrid</td>\n",
       "      <td>70.0</td>\n",
       "      <td>3</td>\n",
       "      <td>1</td>\n",
       "      <td>129900</td>\n",
       "      <td>1856</td>\n",
       "      <td>0</td>\n",
       "      <td>Los Ãngeles</td>\n",
       "    </tr>\n",
       "    <tr>\n",
       "      <th>2</th>\n",
       "      <td>21740</td>\n",
       "      <td>San AndrÃ©s, Madrid</td>\n",
       "      <td>94.0</td>\n",
       "      <td>2</td>\n",
       "      <td>2</td>\n",
       "      <td>144247</td>\n",
       "      <td>1535</td>\n",
       "      <td>0</td>\n",
       "      <td>San AndrÃ©s</td>\n",
       "    </tr>\n",
       "    <tr>\n",
       "      <th>3</th>\n",
       "      <td>21739</td>\n",
       "      <td>San AndrÃ©s, Madrid</td>\n",
       "      <td>64.0</td>\n",
       "      <td>2</td>\n",
       "      <td>1</td>\n",
       "      <td>109900</td>\n",
       "      <td>1717</td>\n",
       "      <td>0</td>\n",
       "      <td>San AndrÃ©s</td>\n",
       "    </tr>\n",
       "    <tr>\n",
       "      <th>4</th>\n",
       "      <td>21738</td>\n",
       "      <td>Los Rosales, Madrid</td>\n",
       "      <td>108.0</td>\n",
       "      <td>2</td>\n",
       "      <td>2</td>\n",
       "      <td>260000</td>\n",
       "      <td>2407</td>\n",
       "      <td>0</td>\n",
       "      <td>Los Rosales</td>\n",
       "    </tr>\n",
       "  </tbody>\n",
       "</table>\n",
       "</div>"
      ],
      "text/plain": [
       "      id                    city  sq_mt_built  n_rooms  n_bathrooms  \\\n",
       "0  21742  San CristÃ³bal, Madrid         64.0        2            1   \n",
       "1  21741    Los Ãngeles, Madrid         70.0        3            1   \n",
       "2  21740     San AndrÃ©s, Madrid         94.0        2            2   \n",
       "3  21739     San AndrÃ©s, Madrid         64.0        2            1   \n",
       "4  21738     Los Rosales, Madrid        108.0        2            2   \n",
       "\n",
       "   buy_price  buy_price_by_area  rent_price         country  \n",
       "0      85000               1328           0  San CristÃ³bal  \n",
       "1     129900               1856           0    Los Ãngeles  \n",
       "2     144247               1535           0     San AndrÃ©s  \n",
       "3     109900               1717           0     San AndrÃ©s  \n",
       "4     260000               2407           0     Los Rosales  "
      ]
     },
     "execution_count": 38,
     "metadata": {},
     "output_type": "execute_result"
    }
   ],
   "source": [
    "df.head(5)"
   ]
  },
  {
   "cell_type": "code",
   "execution_count": 39,
   "metadata": {},
   "outputs": [],
   "source": [
    "df.drop(columns=['city'],inplace=True)"
   ]
  },
  {
   "cell_type": "code",
   "execution_count": 40,
   "metadata": {},
   "outputs": [
    {
     "data": {
      "text/html": [
       "<div>\n",
       "<style scoped>\n",
       "    .dataframe tbody tr th:only-of-type {\n",
       "        vertical-align: middle;\n",
       "    }\n",
       "\n",
       "    .dataframe tbody tr th {\n",
       "        vertical-align: top;\n",
       "    }\n",
       "\n",
       "    .dataframe thead th {\n",
       "        text-align: right;\n",
       "    }\n",
       "</style>\n",
       "<table border=\"1\" class=\"dataframe\">\n",
       "  <thead>\n",
       "    <tr style=\"text-align: right;\">\n",
       "      <th></th>\n",
       "      <th>id</th>\n",
       "      <th>sq_mt_built</th>\n",
       "      <th>n_rooms</th>\n",
       "      <th>n_bathrooms</th>\n",
       "      <th>buy_price</th>\n",
       "      <th>buy_price_by_area</th>\n",
       "      <th>rent_price</th>\n",
       "      <th>country</th>\n",
       "    </tr>\n",
       "  </thead>\n",
       "  <tbody>\n",
       "    <tr>\n",
       "      <th>0</th>\n",
       "      <td>21742</td>\n",
       "      <td>64.0</td>\n",
       "      <td>2</td>\n",
       "      <td>1</td>\n",
       "      <td>85000</td>\n",
       "      <td>1328</td>\n",
       "      <td>0</td>\n",
       "      <td>San CristÃ³bal</td>\n",
       "    </tr>\n",
       "    <tr>\n",
       "      <th>1</th>\n",
       "      <td>21741</td>\n",
       "      <td>70.0</td>\n",
       "      <td>3</td>\n",
       "      <td>1</td>\n",
       "      <td>129900</td>\n",
       "      <td>1856</td>\n",
       "      <td>0</td>\n",
       "      <td>Los Ãngeles</td>\n",
       "    </tr>\n",
       "    <tr>\n",
       "      <th>2</th>\n",
       "      <td>21740</td>\n",
       "      <td>94.0</td>\n",
       "      <td>2</td>\n",
       "      <td>2</td>\n",
       "      <td>144247</td>\n",
       "      <td>1535</td>\n",
       "      <td>0</td>\n",
       "      <td>San AndrÃ©s</td>\n",
       "    </tr>\n",
       "    <tr>\n",
       "      <th>3</th>\n",
       "      <td>21739</td>\n",
       "      <td>64.0</td>\n",
       "      <td>2</td>\n",
       "      <td>1</td>\n",
       "      <td>109900</td>\n",
       "      <td>1717</td>\n",
       "      <td>0</td>\n",
       "      <td>San AndrÃ©s</td>\n",
       "    </tr>\n",
       "  </tbody>\n",
       "</table>\n",
       "</div>"
      ],
      "text/plain": [
       "      id  sq_mt_built  n_rooms  n_bathrooms  buy_price  buy_price_by_area  \\\n",
       "0  21742         64.0        2            1      85000               1328   \n",
       "1  21741         70.0        3            1     129900               1856   \n",
       "2  21740         94.0        2            2     144247               1535   \n",
       "3  21739         64.0        2            1     109900               1717   \n",
       "\n",
       "   rent_price         country  \n",
       "0           0  San CristÃ³bal  \n",
       "1           0    Los Ãngeles  \n",
       "2           0     San AndrÃ©s  \n",
       "3           0     San AndrÃ©s  "
      ]
     },
     "execution_count": 40,
     "metadata": {},
     "output_type": "execute_result"
    }
   ],
   "source": [
    "df.head(4)"
   ]
  },
  {
   "cell_type": "code",
   "execution_count": 41,
   "metadata": {},
   "outputs": [
    {
     "name": "stdout",
     "output_type": "stream",
     "text": [
      "<class 'pandas.core.frame.DataFrame'>\n",
      "Index: 21177 entries, 0 to 21741\n",
      "Data columns (total 8 columns):\n",
      " #   Column             Non-Null Count  Dtype  \n",
      "---  ------             --------------  -----  \n",
      " 0   id                 21177 non-null  int64  \n",
      " 1   sq_mt_built        21177 non-null  float64\n",
      " 2   n_rooms            21177 non-null  int64  \n",
      " 3   n_bathrooms        21177 non-null  int32  \n",
      " 4   buy_price          21177 non-null  int64  \n",
      " 5   buy_price_by_area  21177 non-null  int64  \n",
      " 6   rent_price         21177 non-null  int64  \n",
      " 7   country            21177 non-null  object \n",
      "dtypes: float64(1), int32(1), int64(5), object(1)\n",
      "memory usage: 1.4+ MB\n"
     ]
    }
   ],
   "source": [
    "df.info()"
   ]
  },
  {
   "cell_type": "code",
   "execution_count": 42,
   "metadata": {},
   "outputs": [
    {
     "data": {
      "image/png": "[encoded data removed]",
      "text/plain": [
       "<Figure size 2000x800 with 6 Axes>"
      ]
     },
     "metadata": {},
     "output_type": "display_data"
    }
   ],
   "source": [
    "plt.figure(figsize=(20,8))\n",
    "for e,i in enumerate (df.columns[1:7]):\n",
    "    plt.subplot(2,3,e+1)\n",
    "    plt.title('Distribution of '+i)\n",
    "    sns.histplot(df[i],kde=True)\n",
    "    plt.tight_layout()\n",
    "    \n"
   ]
  },
  {
   "cell_type": "code",
   "execution_count": 43,
   "metadata": {},
   "outputs": [
    {
     "data": {
      "image/png": "[encoded data removed]",
      "text/plain": [
       "<Figure size 2000x800 with 5 Axes>"
      ]
     },
     "metadata": {},
     "output_type": "display_data"
    }
   ],
   "source": [
    "plt.figure(figsize=(20,8))\n",
    "for e,i in enumerate (df.columns[2:7]):\n",
    "    plt.subplot(2,3,e+1)\n",
    "    plt.title('Distribution of '+i)\n",
    "    sns.boxenplot(x=df[i])\n",
    "    plt.tight_layout()"
   ]
  },
  {
   "cell_type": "code",
   "execution_count": 44,
   "metadata": {},
   "outputs": [
    {
     "data": {
      "application/vnd.plotly.v1+json": {
       "config": {
        "plotlyServerURL": "https://plot.ly"
       },
       "data": [
        {
         "alignmentgroup": "True",
         "hovertemplate": "variable=count<br>country=%{x}<br>value=%{y}<extra></extra>",
         "legendgroup": "count",
         "marker": {
          "color": "#636efa",
          "pattern": {
           "shape": ""
          }
         },
         "name": "count",
         "offsetgroup": "count",
         "orientation": "v",
         "showlegend": true,
         "textposition": "auto",
         "type": "bar",
         "x": [
          "ChamartÃ­n",
          "Moncloa",
          "ChamberÃ­",
          "Centro",
          "Hortaleza",
          "Barrio de Salamanca",
          "Fuencarral",
          "MalasaÃ±a-Universidad",
          "LavapiÃ©s-Embajadores",
          "TetuÃ¡n",
          "Ensanche de Vallecas - La Gavia",
          "Prosperidad",
          "Pueblo Nuevo",
          "Ciudad Lineal",
          "El CaÃ±averal - Los Berrocales",
          "San Diego",
          "ArgÃ¼elles",
          "San Isidro",
          "Retiro",
          "Cuatro Caminos",
          "Ventas",
          "San AndrÃ©s",
          "PeÃ±agrande",
          "Trafalgar",
          "Almagro",
          "Vista Alegre",
          "Numancia",
          "Chueca-Justicia",
          "Nuevos Ministerios-RÃ­os Rosas",
          "Bellas Vistas",
          "Valdeacederas",
          "Carabanchel",
          "Puerta Bonita",
          "Gaztambide",
          "Sanchinarro",
          "BernabÃ©u-HispanoamÃ©rica",
          "Abrantes",
          "Delicias",
          "Goya",
          "Palacio",
          "Puerta del Ãngel",
          "Aravaca",
          "PacÃ­fico",
          "Conde Orgaz-Piovera",
          "Arapiles",
          "Pinar del Rey",
          "Butarque",
          "El Viso",
          "Casco HistÃ³rico de Vallecas",
          "Puente de Vallecas",
          "Acacias",
          "OpaÃ±el",
          "Palomeras sureste",
          "Cuzco-Castillejos",
          "Vallehermoso",
          "Berruguete",
          "Valdebebas - Valdefuentes",
          "Canillas",
          "Nueva EspaÃ±a",
          "Imperial",
          "Ciudad Universitaria",
          "Palomeras Bajas",
          "Lucero",
          "Villaverde",
          "Almendrales",
          "Aluche",
          "Ibiza",
          "Palos de Moguer",
          "Legazpi",
          "Guindalera",
          "Los Rosales",
          "Valdezarza",
          "Chopera",
          "MoscardÃ³",
          "Usera",
          "Buena Vista",
          "Quintana",
          "Pilar",
          "Arganzuela",
          "Recoletos",
          "Comillas",
          "Adelfas",
          "Castilla",
          "EntrevÃ­as",
          "ConcepciÃ³n",
          "Huertas-Cortes",
          "Las Tablas",
          "Costillares",
          "Estrella",
          "La Paz",
          "Los Ãngeles",
          "Lista",
          "Villa de Vallecas",
          "Latina",
          "Pradolongo",
          "Tres Olivos - Valverde",
          "Ciudad JardÃ­n",
          "Ventilla-Almenara",
          "Mirasierra",
          "Ãguilas",
          "Castellana",
          "San Pascual",
          "Pau de Carabanchel",
          "Ambroz",
          "San CristÃ³bal",
          "San FermÃ­n",
          "Portazgo",
          "Casco HistÃ³rico de VicÃ¡lvaro",
          "FontarrÃ³n",
          "Sol",
          "Marroquina",
          "ValdemarÃ­n",
          "Los CÃ¡rmenes",
          "Montecarmelo",
          "Palomas",
          "Casa de Campo",
          "Orcasitas",
          "JerÃ³nimos",
          "Colina",
          "VicÃ¡lvaro",
          "San Juan Bautista",
          "ApÃ³stol Santiago",
          "Santa Eugenia",
          "Campamento",
          "ZofÃ­o",
          "Fuente del Berro",
          "Valdebernardo - Valderribas",
          "Vinateros",
          "Moratalaz",
          "12 de Octubre-Orcasur",
          "Media Legua",
          "Fuentelarreina",
          "Virgen del Cortijo - Manoteras",
          "NiÃ±o JesÃºs",
          "El PlantÃ­o",
          "Atalaya",
          "Arroyo del Fresno",
          "Pavones",
          "El Pardo",
          "Alameda de Osuna",
          "Horcajo",
          "Barajas",
          "Campo de las Naciones-Corralejos",
          "Casco HistÃ³rico de Barajas",
          "TimÃ³n",
          "Cuatro Vientos"
         ],
         "xaxis": "x",
         "y": [
          840,
          692,
          576,
          541,
          482,
          457,
          371,
          327,
          310,
          292,
          288,
          284,
          277,
          274,
          266,
          261,
          253,
          248,
          238,
          231,
          228,
          217,
          215,
          212,
          212,
          209,
          208,
          202,
          199,
          198,
          198,
          196,
          195,
          195,
          192,
          187,
          181,
          181,
          181,
          176,
          174,
          171,
          171,
          167,
          166,
          166,
          162,
          162,
          157,
          155,
          152,
          149,
          149,
          149,
          147,
          147,
          142,
          139,
          138,
          138,
          137,
          136,
          136,
          133,
          133,
          133,
          133,
          132,
          132,
          132,
          131,
          131,
          128,
          122,
          122,
          120,
          114,
          113,
          113,
          113,
          111,
          111,
          109,
          108,
          103,
          102,
          100,
          99,
          97,
          93,
          92,
          90,
          87,
          85,
          85,
          85,
          85,
          83,
          82,
          81,
          79,
          79,
          75,
          75,
          74,
          74,
          74,
          73,
          72,
          71,
          69,
          69,
          68,
          67,
          63,
          62,
          60,
          60,
          59,
          58,
          58,
          54,
          53,
          51,
          50,
          47,
          44,
          43,
          40,
          40,
          37,
          37,
          35,
          34,
          31,
          27,
          20,
          14,
          12,
          12,
          11,
          7,
          6,
          5,
          4,
          1
         ],
         "yaxis": "y"
        }
       ],
       "layout": {
        "barmode": "relative",
        "legend": {
         "title": {
          "text": "variable"
         },
         "tracegroupgap": 0
        },
        "margin": {
         "t": 60
        },
        "template": {
         "data": {
          "bar": [
           {
            "error_x": {
             "color": "#2a3f5f"
            },
            "error_y": {
             "color": "#2a3f5f"
            },
            "marker": {
             "line": {
              "color": "#E5ECF6",
              "width": 0.5
             },
             "pattern": {
              "fillmode": "overlay",
              "size": 10,
              "solidity": 0.2
             }
            },
            "type": "bar"
           }
          ],
          "barpolar": [
           {
            "marker": {
             "line": {
              "color": "#E5ECF6",
              "width": 0.5
             },
             "pattern": {
              "fillmode": "overlay",
              "size": 10,
              "solidity": 0.2
             }
            },
            "type": "barpolar"
           }
          ],
          "carpet": [
           {
            "aaxis": {
             "endlinecolor": "#2a3f5f",
             "gridcolor": "white",
             "linecolor": "white",
             "minorgridcolor": "white",
             "startlinecolor": "#2a3f5f"
            },
            "baxis": {
             "endlinecolor": "#2a3f5f",
             "gridcolor": "white",
             "linecolor": "white",
             "minorgridcolor": "white",
             "startlinecolor": "#2a3f5f"
            },
            "type": "carpet"
           }
          ],
          "choropleth": [
           {
            "colorbar": {
             "outlinewidth": 0,
             "ticks": ""
            },
            "type": "choropleth"
           }
          ],
          "contour": [
           {
            "colorbar": {
             "outlinewidth": 0,
             "ticks": ""
            },
            "colorscale": [
             [
              0,
              "#0d0887"
             ],
             [
              0.1111111111111111,
              "#46039f"
             ],
             [
              0.2222222222222222,
              "#7201a8"
             ],
             [
              0.3333333333333333,
              "#9c179e"
             ],
             [
              0.4444444444444444,
              "#bd3786"
             ],
             [
              0.5555555555555556,
              "#d8576b"
             ],
             [
              0.6666666666666666,
              "#ed7953"
             ],
             [
              0.7777777777777778,
              "#fb9f3a"
             ],
             [
              0.8888888888888888,
              "#fdca26"
             ],
             [
              1,
              "#f0f921"
             ]
            ],
            "type": "contour"
           }
          ],
          "contourcarpet": [
           {
            "colorbar": {
             "outlinewidth": 0,
             "ticks": ""
            },
            "type": "contourcarpet"
           }
          ],
          "heatmap": [
           {
            "colorbar": {
             "outlinewidth": 0,
             "ticks": ""
            },
            "colorscale": [
             [
              0,
              "#0d0887"
             ],
             [
              0.1111111111111111,
              "#46039f"
             ],
             [
              0.2222222222222222,
              "#7201a8"
             ],
             [
              0.3333333333333333,
              "#9c179e"
             ],
             [
              0.4444444444444444,
              "#bd3786"
             ],
             [
              0.5555555555555556,
              "#d8576b"
             ],
             [
              0.6666666666666666,
              "#ed7953"
             ],
             [
              0.7777777777777778,
              "#fb9f3a"
             ],
             [
              0.8888888888888888,
              "#fdca26"
             ],
             [
              1,
              "#f0f921"
             ]
            ],
            "type": "heatmap"
           }
          ],
          "heatmapgl": [
           {
            "colorbar": {
             "outlinewidth": 0,
             "ticks": ""
            },
            "colorscale": [
             [
              0,
              "#0d0887"
             ],
             [
              0.1111111111111111,
              "#46039f"
             ],
             [
              0.2222222222222222,
              "#7201a8"
             ],
             [
              0.3333333333333333,
              "#9c179e"
             ],
             [
              0.4444444444444444,
              "#bd3786"
             ],
             [
              0.5555555555555556,
              "#d8576b"
             ],
             [
              0.6666666666666666,
              "#ed7953"
             ],
             [
              0.7777777777777778,
              "#fb9f3a"
             ],
             [
              0.8888888888888888,
              "#fdca26"
             ],
             [
              1,
              "#f0f921"
             ]
            ],
            "type": "heatmapgl"
           }
          ],
          "histogram": [
           {
            "marker": {
             "pattern": {
              "fillmode": "overlay",
              "size": 10,
              "solidity": 0.2
             }
            },
            "type": "histogram"
           }
          ],
          "histogram2d": [
           {
            "colorbar": {
             "outlinewidth": 0,
             "ticks": ""
            },
            "colorscale": [
             [
              0,
              "#0d0887"
             ],
             [
              0.1111111111111111,
              "#46039f"
             ],
             [
              0.2222222222222222,
              "#7201a8"
             ],
             [
              0.3333333333333333,
              "#9c179e"
             ],
             [
              0.4444444444444444,
              "#bd3786"
             ],
             [
              0.5555555555555556,
              "#d8576b"
             ],
             [
              0.6666666666666666,
              "#ed7953"
             ],
             [
              0.7777777777777778,
              "#fb9f3a"
             ],
             [
              0.8888888888888888,
              "#fdca26"
             ],
             [
              1,
              "#f0f921"
             ]
            ],
            "type": "histogram2d"
           }
          ],
          "histogram2dcontour": [
           {
            "colorbar": {
             "outlinewidth": 0,
             "ticks": ""
            },
            "colorscale": [
             [
              0,
              "#0d0887"
             ],
             [
              0.1111111111111111,
              "#46039f"
             ],
             [
              0.2222222222222222,
              "#7201a8"
             ],
             [
              0.3333333333333333,
              "#9c179e"
             ],
             [
              0.4444444444444444,
              "#bd3786"
             ],
             [
              0.5555555555555556,
              "#d8576b"
             ],
             [
              0.6666666666666666,
              "#ed7953"
             ],
             [
              0.7777777777777778,
              "#fb9f3a"
             ],
             [
              0.8888888888888888,
              "#fdca26"
             ],
             [
              1,
              "#f0f921"
             ]
            ],
            "type": "histogram2dcontour"
           }
          ],
          "mesh3d": [
           {
            "colorbar": {
             "outlinewidth": 0,
             "ticks": ""
            },
            "type": "mesh3d"
           }
          ],
          "parcoords": [
           {
            "line": {
             "colorbar": {
              "outlinewidth": 0,
              "ticks": ""
             }
            },
            "type": "parcoords"
           }
          ],
          "pie": [
           {
            "automargin": true,
            "type": "pie"
           }
          ],
          "scatter": [
           {
            "fillpattern": {
             "fillmode": "overlay",
             "size": 10,
             "solidity": 0.2
            },
            "type": "scatter"
           }
          ],
          "scatter3d": [
           {
            "line": {
             "colorbar": {
              "outlinewidth": 0,
              "ticks": ""
             }
            },
            "marker": {
             "colorbar": {
              "outlinewidth": 0,
              "ticks": ""
             }
            },
            "type": "scatter3d"
           }
          ],
          "scattercarpet": [
           {
            "marker": {
             "colorbar": {
              "outlinewidth": 0,
              "ticks": ""
             }
            },
            "type": "scattercarpet"
           }
          ],
          "scattergeo": [
           {
            "marker": {
             "colorbar": {
              "outlinewidth": 0,
              "ticks": ""
             }
            },
            "type": "scattergeo"
           }
          ],
          "scattergl": [
           {
            "marker": {
             "colorbar": {
              "outlinewidth": 0,
              "ticks": ""
             }
            },
            "type": "scattergl"
           }
          ],
          "scattermapbox": [
           {
            "marker": {
             "colorbar": {
              "outlinewidth": 0,
              "ticks": ""
             }
            },
            "type": "scattermapbox"
           }
          ],
          "scatterpolar": [
           {
            "marker": {
             "colorbar": {
              "outlinewidth": 0,
              "ticks": ""
             }
            },
            "type": "scatterpolar"
           }
          ],
          "scatterpolargl": [
           {
            "marker": {
             "colorbar": {
              "outlinewidth": 0,
              "ticks": ""
             }
            },
            "type": "scatterpolargl"
           }
          ],
          "scatterternary": [
           {
            "marker": {
             "colorbar": {
              "outlinewidth": 0,
              "ticks": ""
             }
            },
            "type": "scatterternary"
           }
          ],
          "surface": [
           {
            "colorbar": {
             "outlinewidth": 0,
             "ticks": ""
            },
            "colorscale": [
             [
              0,
              "#0d0887"
             ],
             [
              0.1111111111111111,
              "#46039f"
             ],
             [
              0.2222222222222222,
              "#7201a8"
             ],
             [
              0.3333333333333333,
              "#9c179e"
             ],
             [
              0.4444444444444444,
              "#bd3786"
             ],
             [
              0.5555555555555556,
              "#d8576b"
             ],
             [
              0.6666666666666666,
              "#ed7953"
             ],
             [
              0.7777777777777778,
              "#fb9f3a"
             ],
             [
              0.8888888888888888,
              "#fdca26"
             ],
             [
              1,
              "#f0f921"
             ]
            ],
            "type": "surface"
           }
          ],
          "table": [
           {
            "cells": {
             "fill": {
              "color": "#EBF0F8"
             },
             "line": {
              "color": "white"
             }
            },
            "header": {
             "fill": {
              "color": "#C8D4E3"
             },
             "line": {
              "color": "white"
             }
            },
            "type": "table"
           }
          ]
         },
         "layout": {
          "annotationdefaults": {
           "arrowcolor": "#2a3f5f",
           "arrowhead": 0,
           "arrowwidth": 1
          },
          "autotypenumbers": "strict",
          "coloraxis": {
           "colorbar": {
            "outlinewidth": 0,
            "ticks": ""
           }
          },
          "colorscale": {
           "diverging": [
            [
             0,
             "#8e0152"
            ],
            [
             0.1,
             "#c51b7d"
            ],
            [
             0.2,
             "#de77ae"
            ],
            [
             0.3,
             "#f1b6da"
            ],
            [
             0.4,
             "#fde0ef"
            ],
            [
             0.5,
             "#f7f7f7"
            ],
            [
             0.6,
             "#e6f5d0"
            ],
            [
             0.7,
             "#b8e186"
            ],
            [
             0.8,
             "#7fbc41"
            ],
            [
             0.9,
             "#4d9221"
            ],
            [
             1,
             "#276419"
            ]
           ],
           "sequential": [
            [
             0,
             "#0d0887"
            ],
            [
             0.1111111111111111,
             "#46039f"
            ],
            [
             0.2222222222222222,
             "#7201a8"
            ],
            [
             0.3333333333333333,
             "#9c179e"
            ],
            [
             0.4444444444444444,
             "#bd3786"
            ],
            [
             0.5555555555555556,
             "#d8576b"
            ],
            [
             0.6666666666666666,
             "#ed7953"
            ],
            [
             0.7777777777777778,
             "#fb9f3a"
            ],
            [
             0.8888888888888888,
             "#fdca26"
            ],
            [
             1,
             "#f0f921"
            ]
           ],
           "sequentialminus": [
            [
             0,
             "#0d0887"
            ],
            [
             0.1111111111111111,
             "#46039f"
            ],
            [
             0.2222222222222222,
             "#7201a8"
            ],
            [
             0.3333333333333333,
             "#9c179e"
            ],
            [
             0.4444444444444444,
             "#bd3786"
            ],
            [
             0.5555555555555556,
             "#d8576b"
            ],
            [
             0.6666666666666666,
             "#ed7953"
            ],
            [
             0.7777777777777778,
             "#fb9f3a"
            ],
            [
             0.8888888888888888,
             "#fdca26"
            ],
            [
             1,
             "#f0f921"
            ]
           ]
          },
          "colorway": [
           "#636efa",
           "#EF553B",
           "#00cc96",
           "#ab63fa",
           "#FFA15A",
           "#19d3f3",
           "#FF6692",
           "#B6E880",
           "#FF97FF",
           "#FECB52"
          ],
          "font": {
           "color": "#2a3f5f"
          },
          "geo": {
           "bgcolor": "white",
           "lakecolor": "white",
           "landcolor": "#E5ECF6",
           "showlakes": true,
           "showland": true,
           "subunitcolor": "white"
          },
          "hoverlabel": {
           "align": "left"
          },
          "hovermode": "closest",
          "mapbox": {
           "style": "light"
          },
          "paper_bgcolor": "white",
          "plot_bgcolor": "#E5ECF6",
          "polar": {
           "angularaxis": {
            "gridcolor": "white",
            "linecolor": "white",
            "ticks": ""
           },
           "bgcolor": "#E5ECF6",
           "radialaxis": {
            "gridcolor": "white",
            "linecolor": "white",
            "ticks": ""
           }
          },
          "scene": {
           "xaxis": {
            "backgroundcolor": "#E5ECF6",
            "gridcolor": "white",
            "gridwidth": 2,
            "linecolor": "white",
            "showbackground": true,
            "ticks": "",
            "zerolinecolor": "white"
           },
           "yaxis": {
            "backgroundcolor": "#E5ECF6",
            "gridcolor": "white",
            "gridwidth": 2,
            "linecolor": "white",
            "showbackground": true,
            "ticks": "",
            "zerolinecolor": "white"
           },
           "zaxis": {
            "backgroundcolor": "#E5ECF6",
            "gridcolor": "white",
            "gridwidth": 2,
            "linecolor": "white",
            "showbackground": true,
            "ticks": "",
            "zerolinecolor": "white"
           }
          },
          "shapedefaults": {
           "line": {
            "color": "#2a3f5f"
           }
          },
          "ternary": {
           "aaxis": {
            "gridcolor": "white",
            "linecolor": "white",
            "ticks": ""
           },
           "baxis": {
            "gridcolor": "white",
            "linecolor": "white",
            "ticks": ""
           },
           "bgcolor": "#E5ECF6",
           "caxis": {
            "gridcolor": "white",
            "linecolor": "white",
            "ticks": ""
           }
          },
          "title": {
           "x": 0.05
          },
          "xaxis": {
           "automargin": true,
           "gridcolor": "white",
           "linecolor": "white",
           "ticks": "",
           "title": {
            "standoff": 15
           },
           "zerolinecolor": "white",
           "zerolinewidth": 2
          },
          "yaxis": {
           "automargin": true,
           "gridcolor": "white",
           "linecolor": "white",
           "ticks": "",
           "title": {
            "standoff": 15
           },
           "zerolinecolor": "white",
           "zerolinewidth": 2
          }
         }
        },
        "xaxis": {
         "anchor": "y",
         "domain": [
          0,
          1
         ],
         "title": {
          "text": "country"
         }
        },
        "yaxis": {
         "anchor": "x",
         "domain": [
          0,
          1
         ],
         "title": {
          "text": "value"
         }
        }
       }
      }
     },
     "metadata": {},
     "output_type": "display_data"
    }
   ],
   "source": [
    "px.bar(df.country.value_counts())"
   ]
  },
  {
   "cell_type": "markdown",
   "metadata": {},
   "source": [
    "BI"
   ]
  },
  {
   "cell_type": "code",
   "execution_count": 45,
   "metadata": {},
   "outputs": [
    {
     "data": {
      "text/plain": [
       "Index(['id', 'sq_mt_built', 'n_rooms', 'n_bathrooms', 'buy_price',\n",
       "       'buy_price_by_area', 'rent_price', 'country'],\n",
       "      dtype='object')"
      ]
     },
     "execution_count": 45,
     "metadata": {},
     "output_type": "execute_result"
    }
   ],
   "source": [
    "df.columns"
   ]
  },
  {
   "cell_type": "code",
   "execution_count": 46,
   "metadata": {},
   "outputs": [
    {
     "data": {
      "text/plain": [
       "<function matplotlib.pyplot.tight_layout(*, pad: 'float' = 1.08, h_pad: 'float | None' = None, w_pad: 'float | None' = None, rect: 'tuple[float, float, float, float] | None' = None) -> 'None'>"
      ]
     },
     "execution_count": 46,
     "metadata": {},
     "output_type": "execute_result"
    },
    {
     "data": {
      "image/png": "[encoded data removed]",
      "text/plain": [
       "<Figure size 750x750 with 12 Axes>"
      ]
     },
     "metadata": {},
     "output_type": "display_data"
    }
   ],
   "source": [
    "corrr=df[['sq_mt_built','n_rooms','n_bathrooms']]\n",
    "\n",
    "sns.pairplot(corrr,kind='reg')\n",
    "plt.tight_layout"
   ]
  },
  {
   "cell_type": "code",
   "execution_count": 47,
   "metadata": {},
   "outputs": [
    {
     "data": {
      "text/plain": [
       "Text(0, 0.5, 'buy price')"
      ]
     },
     "execution_count": 47,
     "metadata": {},
     "output_type": "execute_result"
    },
    {
     "data": {
      "image/png": "[encoded data removed]",
      "text/plain": [
       "<Figure size 640x480 with 1 Axes>"
      ]
     },
     "metadata": {},
     "output_type": "display_data"
    }
   ],
   "source": [
    "sns.regplot(data=df,x='sq_mt_built',y='buy_price')\n",
    "plt.title('corr between Area and buy price')\n",
    "plt.xlabel('area')\n",
    "plt.ylabel('buy price')\n"
   ]
  },
  {
   "cell_type": "code",
   "execution_count": 48,
   "metadata": {},
   "outputs": [
    {
     "data": {
      "text/plain": [
       "<Axes: >"
      ]
     },
     "execution_count": 48,
     "metadata": {},
     "output_type": "execute_result"
    },
    {
     "data": {
      "image/png": "[encoded data removed]",
      "text/plain": [
       "<Figure size 640x480 with 2 Axes>"
      ]
     },
     "metadata": {},
     "output_type": "display_data"
    }
   ],
   "source": [
    "sns.heatmap(corrr.corr(),annot=True,fmt='0.1f',linewidths=0.5)"
   ]
  },
  {
   "cell_type": "code",
   "execution_count": 49,
   "metadata": {},
   "outputs": [
    {
     "data": {
      "text/plain": [
       "<Axes: title={'center': 'mean price by country'}, xlabel='country', ylabel='buy price'>"
      ]
     },
     "execution_count": 49,
     "metadata": {},
     "output_type": "execute_result"
    },
    {
     "data": {
      "image/png": "[encoded data removed]",
      "text/plain": [
       "<Figure size 640x480 with 1 Axes>"
      ]
     },
     "metadata": {},
     "output_type": "display_data"
    }
   ],
   "source": [
    "mean_price=df.groupby('country')['buy_price'].mean().round(2).sort_values(ascending=False)\n",
    "mean_price.head(10).plot(kind='bar',xlabel='country',ylabel='buy price',title='mean price by country')"
   ]
  },
  {
   "cell_type": "code",
   "execution_count": 50,
   "metadata": {},
   "outputs": [
    {
     "data": {
      "text/plain": [
       "<Axes: title={'center': 'mean price by country'}, xlabel='country', ylabel='buy price'>"
      ]
     },
     "execution_count": 50,
     "metadata": {},
     "output_type": "execute_result"
    },
    {
     "data": {
      "image/png": "[encoded data removed]",
      "text/plain": [
       "<Figure size 640x480 with 1 Axes>"
      ]
     },
     "metadata": {},
     "output_type": "display_data"
    }
   ],
   "source": [
    "mean_price=df.groupby('country')['buy_price_by_area'].mean().round(2).sort_values(ascending=False)\n",
    "mean_price.head(10).plot(kind='bar',xlabel='country',ylabel='buy price',title='mean price by country')"
   ]
  },
  {
   "cell_type": "code",
   "execution_count": 51,
   "metadata": {},
   "outputs": [],
   "source": [
    "from sklearn.model_selection import train_test_split\n",
    "from xgboost import XGBRegressor\n",
    "\n",
    "from sklearn.metrics import r2_score\n",
    "from sklearn.metrics import mean_absolute_error"
   ]
  },
  {
   "cell_type": "code",
   "execution_count": 52,
   "metadata": {},
   "outputs": [
    {
     "name": "stdout",
     "output_type": "stream",
     "text": [
      "<class 'pandas.core.frame.DataFrame'>\n",
      "Index: 21177 entries, 0 to 21741\n",
      "Data columns (total 8 columns):\n",
      " #   Column             Non-Null Count  Dtype  \n",
      "---  ------             --------------  -----  \n",
      " 0   id                 21177 non-null  int64  \n",
      " 1   sq_mt_built        21177 non-null  float64\n",
      " 2   n_rooms            21177 non-null  int64  \n",
      " 3   n_bathrooms        21177 non-null  int32  \n",
      " 4   buy_price          21177 non-null  int64  \n",
      " 5   buy_price_by_area  21177 non-null  int64  \n",
      " 6   rent_price         21177 non-null  int64  \n",
      " 7   country            21177 non-null  object \n",
      "dtypes: float64(1), int32(1), int64(5), object(1)\n",
      "memory usage: 1.4+ MB\n"
     ]
    }
   ],
   "source": [
    "df.info()"
   ]
  },
  {
   "cell_type": "code",
   "execution_count": 53,
   "metadata": {},
   "outputs": [
    {
     "data": {
      "text/plain": [
       "Index(['id', 'sq_mt_built', 'n_rooms', 'n_bathrooms', 'buy_price',\n",
       "       'buy_price_by_area', 'rent_price', 'country'],\n",
       "      dtype='object')"
      ]
     },
     "execution_count": 53,
     "metadata": {},
     "output_type": "execute_result"
    }
   ],
   "source": [
    "df.columns"
   ]
  },
  {
   "cell_type": "markdown",
   "metadata": {},
   "source": [
    "Create Model "
   ]
  },
  {
   "cell_type": "code",
   "execution_count": 54,
   "metadata": {},
   "outputs": [],
   "source": [
    "reco=df.query('country == \"Recoletos\"')"
   ]
  },
  {
   "cell_type": "code",
   "execution_count": 55,
   "metadata": {},
   "outputs": [
    {
     "data": {
      "text/html": [
       "<div>\n",
       "<style scoped>\n",
       "    .dataframe tbody tr th:only-of-type {\n",
       "        vertical-align: middle;\n",
       "    }\n",
       "\n",
       "    .dataframe tbody tr th {\n",
       "        vertical-align: top;\n",
       "    }\n",
       "\n",
       "    .dataframe thead th {\n",
       "        text-align: right;\n",
       "    }\n",
       "</style>\n",
       "<table border=\"1\" class=\"dataframe\">\n",
       "  <thead>\n",
       "    <tr style=\"text-align: right;\">\n",
       "      <th></th>\n",
       "      <th>id</th>\n",
       "      <th>sq_mt_built</th>\n",
       "      <th>n_rooms</th>\n",
       "      <th>n_bathrooms</th>\n",
       "      <th>buy_price</th>\n",
       "      <th>buy_price_by_area</th>\n",
       "      <th>rent_price</th>\n",
       "      <th>country</th>\n",
       "    </tr>\n",
       "  </thead>\n",
       "  <tbody>\n",
       "    <tr>\n",
       "      <th>19336</th>\n",
       "      <td>2406</td>\n",
       "      <td>471.0</td>\n",
       "      <td>6</td>\n",
       "      <td>6</td>\n",
       "      <td>4155000</td>\n",
       "      <td>8822</td>\n",
       "      <td>0</td>\n",
       "      <td>Recoletos</td>\n",
       "    </tr>\n",
       "    <tr>\n",
       "      <th>20139</th>\n",
       "      <td>1603</td>\n",
       "      <td>130.0</td>\n",
       "      <td>3</td>\n",
       "      <td>2</td>\n",
       "      <td>1120000</td>\n",
       "      <td>8615</td>\n",
       "      <td>0</td>\n",
       "      <td>Recoletos</td>\n",
       "    </tr>\n",
       "    <tr>\n",
       "      <th>19244</th>\n",
       "      <td>2498</td>\n",
       "      <td>63.0</td>\n",
       "      <td>1</td>\n",
       "      <td>1</td>\n",
       "      <td>510000</td>\n",
       "      <td>8095</td>\n",
       "      <td>0</td>\n",
       "      <td>Recoletos</td>\n",
       "    </tr>\n",
       "    <tr>\n",
       "      <th>19702</th>\n",
       "      <td>2040</td>\n",
       "      <td>706.0</td>\n",
       "      <td>6</td>\n",
       "      <td>7</td>\n",
       "      <td>6500000</td>\n",
       "      <td>9207</td>\n",
       "      <td>0</td>\n",
       "      <td>Recoletos</td>\n",
       "    </tr>\n",
       "    <tr>\n",
       "      <th>19867</th>\n",
       "      <td>1875</td>\n",
       "      <td>279.0</td>\n",
       "      <td>4</td>\n",
       "      <td>4</td>\n",
       "      <td>2200000</td>\n",
       "      <td>7885</td>\n",
       "      <td>0</td>\n",
       "      <td>Recoletos</td>\n",
       "    </tr>\n",
       "  </tbody>\n",
       "</table>\n",
       "</div>"
      ],
      "text/plain": [
       "         id  sq_mt_built  n_rooms  n_bathrooms  buy_price  buy_price_by_area  \\\n",
       "19336  2406        471.0        6            6    4155000               8822   \n",
       "20139  1603        130.0        3            2    1120000               8615   \n",
       "19244  2498         63.0        1            1     510000               8095   \n",
       "19702  2040        706.0        6            7    6500000               9207   \n",
       "19867  1875        279.0        4            4    2200000               7885   \n",
       "\n",
       "       rent_price    country  \n",
       "19336           0  Recoletos  \n",
       "20139           0  Recoletos  \n",
       "19244           0  Recoletos  \n",
       "19702           0  Recoletos  \n",
       "19867           0  Recoletos  "
      ]
     },
     "execution_count": 55,
     "metadata": {},
     "output_type": "execute_result"
    }
   ],
   "source": [
    "reco.sample(5)"
   ]
  },
  {
   "cell_type": "code",
   "execution_count": 56,
   "metadata": {},
   "outputs": [
    {
     "data": {
      "text/html": [
       "<table class=\"simpletable\">\n",
       "<caption>OLS Regression Results</caption>\n",
       "<tr>\n",
       "  <th>Dep. Variable:</th>        <td>buy_price</td>    <th>  R-squared:         </th> <td>   0.833</td>\n",
       "</tr>\n",
       "<tr>\n",
       "  <th>Model:</th>                   <td>OLS</td>       <th>  Adj. R-squared:    </th> <td>   0.832</td>\n",
       "</tr>\n",
       "<tr>\n",
       "  <th>Method:</th>             <td>Least Squares</td>  <th>  F-statistic:       </th> <td>   555.1</td>\n",
       "</tr>\n",
       "<tr>\n",
       "  <th>Date:</th>             <td>Sat, 29 Jun 2024</td> <th>  Prob (F-statistic):</th> <td>5.30e-45</td>\n",
       "</tr>\n",
       "<tr>\n",
       "  <th>Time:</th>                 <td>23:42:44</td>     <th>  Log-Likelihood:    </th> <td> -1654.1</td>\n",
       "</tr>\n",
       "<tr>\n",
       "  <th>No. Observations:</th>      <td>   113</td>      <th>  AIC:               </th> <td>   3312.</td>\n",
       "</tr>\n",
       "<tr>\n",
       "  <th>Df Residuals:</th>          <td>   111</td>      <th>  BIC:               </th> <td>   3318.</td>\n",
       "</tr>\n",
       "<tr>\n",
       "  <th>Df Model:</th>              <td>     1</td>      <th>                     </th>     <td> </td>   \n",
       "</tr>\n",
       "<tr>\n",
       "  <th>Covariance Type:</th>      <td>nonrobust</td>    <th>                     </th>     <td> </td>   \n",
       "</tr>\n",
       "</table>\n",
       "<table class=\"simpletable\">\n",
       "<tr>\n",
       "       <td></td>          <th>coef</th>     <th>std err</th>      <th>t</th>      <th>P>|t|</th>  <th>[0.025</th>    <th>0.975]</th>  \n",
       "</tr>\n",
       "<tr>\n",
       "  <th>intercept</th>   <td>-4.342e+04</td> <td> 1.07e+05</td> <td>   -0.406</td> <td> 0.686</td> <td>-2.55e+05</td> <td> 1.69e+05</td>\n",
       "</tr>\n",
       "<tr>\n",
       "  <th>sq_mt_built</th> <td> 8975.6204</td> <td>  380.945</td> <td>   23.561</td> <td> 0.000</td> <td> 8220.753</td> <td> 9730.488</td>\n",
       "</tr>\n",
       "</table>\n",
       "<table class=\"simpletable\">\n",
       "<tr>\n",
       "  <th>Omnibus:</th>       <td>11.498</td> <th>  Durbin-Watson:     </th> <td>   2.039</td>\n",
       "</tr>\n",
       "<tr>\n",
       "  <th>Prob(Omnibus):</th> <td> 0.003</td> <th>  Jarque-Bera (JB):  </th> <td>  16.048</td>\n",
       "</tr>\n",
       "<tr>\n",
       "  <th>Skew:</th>          <td> 0.512</td> <th>  Prob(JB):          </th> <td>0.000328</td>\n",
       "</tr>\n",
       "<tr>\n",
       "  <th>Kurtosis:</th>      <td> 4.536</td> <th>  Cond. No.          </th> <td>    574.</td>\n",
       "</tr>\n",
       "</table><br/><br/>Notes:<br/>[1] Standard Errors assume that the covariance matrix of the errors is correctly specified."
      ],
      "text/latex": [
       "\\begin{center}\n",
       "\\begin{tabular}{lclc}\n",
       "\\toprule\n",
       "\\textbf{Dep. Variable:}    &    buy\\_price    & \\textbf{  R-squared:         } &     0.833   \\\\\n",
       "\\textbf{Model:}            &       OLS        & \\textbf{  Adj. R-squared:    } &     0.832   \\\\\n",
       "\\textbf{Method:}           &  Least Squares   & \\textbf{  F-statistic:       } &     555.1   \\\\\n",
       "\\textbf{Date:}             & Sat, 29 Jun 2024 & \\textbf{  Prob (F-statistic):} &  5.30e-45   \\\\\n",
       "\\textbf{Time:}             &     23:42:44     & \\textbf{  Log-Likelihood:    } &   -1654.1   \\\\\n",
       "\\textbf{No. Observations:} &         113      & \\textbf{  AIC:               } &     3312.   \\\\\n",
       "\\textbf{Df Residuals:}     &         111      & \\textbf{  BIC:               } &     3318.   \\\\\n",
       "\\textbf{Df Model:}         &           1      & \\textbf{                     } &             \\\\\n",
       "\\textbf{Covariance Type:}  &    nonrobust     & \\textbf{                     } &             \\\\\n",
       "\\bottomrule\n",
       "\\end{tabular}\n",
       "\\begin{tabular}{lcccccc}\n",
       "                       & \\textbf{coef} & \\textbf{std err} & \\textbf{t} & \\textbf{P$> |$t$|$} & \\textbf{[0.025} & \\textbf{0.975]}  \\\\\n",
       "\\midrule\n",
       "\\textbf{intercept}     &   -4.342e+04  &     1.07e+05     &    -0.406  &         0.686        &    -2.55e+05    &     1.69e+05     \\\\\n",
       "\\textbf{sq\\_mt\\_built} &    8975.6204  &      380.945     &    23.561  &         0.000        &     8220.753    &     9730.488     \\\\\n",
       "\\bottomrule\n",
       "\\end{tabular}\n",
       "\\begin{tabular}{lclc}\n",
       "\\textbf{Omnibus:}       & 11.498 & \\textbf{  Durbin-Watson:     } &    2.039  \\\\\n",
       "\\textbf{Prob(Omnibus):} &  0.003 & \\textbf{  Jarque-Bera (JB):  } &   16.048  \\\\\n",
       "\\textbf{Skew:}          &  0.512 & \\textbf{  Prob(JB):          } & 0.000328  \\\\\n",
       "\\textbf{Kurtosis:}      &  4.536 & \\textbf{  Cond. No.          } &     574.  \\\\\n",
       "\\bottomrule\n",
       "\\end{tabular}\n",
       "%\\caption{OLS Regression Results}\n",
       "\\end{center}\n",
       "\n",
       "Notes: \\newline\n",
       " [1] Standard Errors assume that the covariance matrix of the errors is correctly specified."
      ],
      "text/plain": [
       "<class 'statsmodels.iolib.summary.Summary'>\n",
       "\"\"\"\n",
       "                            OLS Regression Results                            \n",
       "==============================================================================\n",
       "Dep. Variable:              buy_price   R-squared:                       0.833\n",
       "Model:                            OLS   Adj. R-squared:                  0.832\n",
       "Method:                 Least Squares   F-statistic:                     555.1\n",
       "Date:                Sat, 29 Jun 2024   Prob (F-statistic):           5.30e-45\n",
       "Time:                        23:42:44   Log-Likelihood:                -1654.1\n",
       "No. Observations:                 113   AIC:                             3312.\n",
       "Df Residuals:                     111   BIC:                             3318.\n",
       "Df Model:                           1                                         \n",
       "Covariance Type:            nonrobust                                         \n",
       "===============================================================================\n",
       "                  coef    std err          t      P>|t|      [0.025      0.975]\n",
       "-------------------------------------------------------------------------------\n",
       "intercept   -4.342e+04   1.07e+05     -0.406      0.686   -2.55e+05    1.69e+05\n",
       "sq_mt_built  8975.6204    380.945     23.561      0.000    8220.753    9730.488\n",
       "==============================================================================\n",
       "Omnibus:                       11.498   Durbin-Watson:                   2.039\n",
       "Prob(Omnibus):                  0.003   Jarque-Bera (JB):               16.048\n",
       "Skew:                           0.512   Prob(JB):                     0.000328\n",
       "Kurtosis:                       4.536   Cond. No.                         574.\n",
       "==============================================================================\n",
       "\n",
       "Notes:\n",
       "[1] Standard Errors assume that the covariance matrix of the errors is correctly specified.\n",
       "\"\"\""
      ]
     },
     "execution_count": 56,
     "metadata": {},
     "output_type": "execute_result"
    }
   ],
   "source": [
    "import statsmodels.api as sm\n",
    "\n",
    "reco['intercept']=1\n",
    "lm=sm.OLS(reco['buy_price'],reco[['intercept','sq_mt_built']])\n",
    "result=lm.fit()\n",
    "result.summary()"
   ]
  },
  {
   "cell_type": "code",
   "execution_count": 58,
   "metadata": {},
   "outputs": [
    {
     "name": "stdout",
     "output_type": "stream",
     "text": [
      "2692681.6580000003\n"
     ]
    }
   ],
   "source": [
    "x=300\n",
    "price=-4.3420+8975.62*300\n",
    "print(price)"
   ]
  },
  {
   "cell_type": "markdown",
   "metadata": {},
   "source": [
    "MultiLinear Regression model"
   ]
  },
  {
   "cell_type": "code",
   "execution_count": 59,
   "metadata": {},
   "outputs": [
    {
     "data": {
      "text/html": [
       "<div>\n",
       "<style scoped>\n",
       "    .dataframe tbody tr th:only-of-type {\n",
       "        vertical-align: middle;\n",
       "    }\n",
       "\n",
       "    .dataframe tbody tr th {\n",
       "        vertical-align: top;\n",
       "    }\n",
       "\n",
       "    .dataframe thead th {\n",
       "        text-align: right;\n",
       "    }\n",
       "</style>\n",
       "<table border=\"1\" class=\"dataframe\">\n",
       "  <thead>\n",
       "    <tr style=\"text-align: right;\">\n",
       "      <th></th>\n",
       "      <th>id</th>\n",
       "      <th>sq_mt_built</th>\n",
       "      <th>n_rooms</th>\n",
       "      <th>n_bathrooms</th>\n",
       "      <th>buy_price</th>\n",
       "      <th>buy_price_by_area</th>\n",
       "      <th>rent_price</th>\n",
       "      <th>country</th>\n",
       "    </tr>\n",
       "  </thead>\n",
       "  <tbody>\n",
       "    <tr>\n",
       "      <th>0</th>\n",
       "      <td>21742</td>\n",
       "      <td>64.0</td>\n",
       "      <td>2</td>\n",
       "      <td>1</td>\n",
       "      <td>85000</td>\n",
       "      <td>1328</td>\n",
       "      <td>0</td>\n",
       "      <td>San CristÃ³bal</td>\n",
       "    </tr>\n",
       "    <tr>\n",
       "      <th>1</th>\n",
       "      <td>21741</td>\n",
       "      <td>70.0</td>\n",
       "      <td>3</td>\n",
       "      <td>1</td>\n",
       "      <td>129900</td>\n",
       "      <td>1856</td>\n",
       "      <td>0</td>\n",
       "      <td>Los Ãngeles</td>\n",
       "    </tr>\n",
       "    <tr>\n",
       "      <th>2</th>\n",
       "      <td>21740</td>\n",
       "      <td>94.0</td>\n",
       "      <td>2</td>\n",
       "      <td>2</td>\n",
       "      <td>144247</td>\n",
       "      <td>1535</td>\n",
       "      <td>0</td>\n",
       "      <td>San AndrÃ©s</td>\n",
       "    </tr>\n",
       "    <tr>\n",
       "      <th>3</th>\n",
       "      <td>21739</td>\n",
       "      <td>64.0</td>\n",
       "      <td>2</td>\n",
       "      <td>1</td>\n",
       "      <td>109900</td>\n",
       "      <td>1717</td>\n",
       "      <td>0</td>\n",
       "      <td>San AndrÃ©s</td>\n",
       "    </tr>\n",
       "    <tr>\n",
       "      <th>4</th>\n",
       "      <td>21738</td>\n",
       "      <td>108.0</td>\n",
       "      <td>2</td>\n",
       "      <td>2</td>\n",
       "      <td>260000</td>\n",
       "      <td>2407</td>\n",
       "      <td>0</td>\n",
       "      <td>Los Rosales</td>\n",
       "    </tr>\n",
       "  </tbody>\n",
       "</table>\n",
       "</div>"
      ],
      "text/plain": [
       "      id  sq_mt_built  n_rooms  n_bathrooms  buy_price  buy_price_by_area  \\\n",
       "0  21742         64.0        2            1      85000               1328   \n",
       "1  21741         70.0        3            1     129900               1856   \n",
       "2  21740         94.0        2            2     144247               1535   \n",
       "3  21739         64.0        2            1     109900               1717   \n",
       "4  21738        108.0        2            2     260000               2407   \n",
       "\n",
       "   rent_price         country  \n",
       "0           0  San CristÃ³bal  \n",
       "1           0    Los Ãngeles  \n",
       "2           0     San AndrÃ©s  \n",
       "3           0     San AndrÃ©s  \n",
       "4           0     Los Rosales  "
      ]
     },
     "execution_count": 59,
     "metadata": {},
     "output_type": "execute_result"
    }
   ],
   "source": [
    "df.head(5)"
   ]
  },
  {
   "cell_type": "code",
   "execution_count": 60,
   "metadata": {},
   "outputs": [
    {
     "data": {
      "text/plain": [
       "Index(['id', 'sq_mt_built', 'n_rooms', 'n_bathrooms', 'buy_price',\n",
       "       'buy_price_by_area', 'rent_price', 'country'],\n",
       "      dtype='object')"
      ]
     },
     "execution_count": 60,
     "metadata": {},
     "output_type": "execute_result"
    }
   ],
   "source": [
    "df.columns"
   ]
  },
  {
   "cell_type": "code",
   "execution_count": 61,
   "metadata": {},
   "outputs": [],
   "source": [
    "corer=df[['sq_mt_built', 'n_rooms', 'n_bathrooms', 'buy_price']]"
   ]
  },
  {
   "cell_type": "code",
   "execution_count": 62,
   "metadata": {},
   "outputs": [
    {
     "data": {
      "text/plain": [
       "<Axes: >"
      ]
     },
     "execution_count": 62,
     "metadata": {},
     "output_type": "execute_result"
    },
    {
     "data": {
      "image/png": "[encoded data removed]",
      "text/plain": [
       "<Figure size 640x480 with 2 Axes>"
      ]
     },
     "metadata": {},
     "output_type": "display_data"
    }
   ],
   "source": [
    "sns.heatmap(corer.corr(),annot=True,fmt='.2f',linewidths=.5)"
   ]
  },
  {
   "cell_type": "code",
   "execution_count": 63,
   "metadata": {},
   "outputs": [
    {
     "data": {
      "text/html": [
       "<table class=\"simpletable\">\n",
       "<caption>OLS Regression Results</caption>\n",
       "<tr>\n",
       "  <th>Dep. Variable:</th>        <td>buy_price</td>    <th>  R-squared:         </th> <td>   0.871</td>\n",
       "</tr>\n",
       "<tr>\n",
       "  <th>Model:</th>                   <td>OLS</td>       <th>  Adj. R-squared:    </th> <td>   0.867</td>\n",
       "</tr>\n",
       "<tr>\n",
       "  <th>Method:</th>             <td>Least Squares</td>  <th>  F-statistic:       </th> <td>   245.2</td>\n",
       "</tr>\n",
       "<tr>\n",
       "  <th>Date:</th>             <td>Sat, 29 Jun 2024</td> <th>  Prob (F-statistic):</th> <td>2.69e-48</td>\n",
       "</tr>\n",
       "<tr>\n",
       "  <th>Time:</th>                 <td>23:56:29</td>     <th>  Log-Likelihood:    </th> <td> -1639.7</td>\n",
       "</tr>\n",
       "<tr>\n",
       "  <th>No. Observations:</th>      <td>   113</td>      <th>  AIC:               </th> <td>   3287.</td>\n",
       "</tr>\n",
       "<tr>\n",
       "  <th>Df Residuals:</th>          <td>   109</td>      <th>  BIC:               </th> <td>   3298.</td>\n",
       "</tr>\n",
       "<tr>\n",
       "  <th>Df Model:</th>              <td>     3</td>      <th>                     </th>     <td> </td>   \n",
       "</tr>\n",
       "<tr>\n",
       "  <th>Covariance Type:</th>      <td>nonrobust</td>    <th>                     </th>     <td> </td>   \n",
       "</tr>\n",
       "</table>\n",
       "<table class=\"simpletable\">\n",
       "<tr>\n",
       "       <td></td>          <th>coef</th>     <th>std err</th>      <th>t</th>      <th>P>|t|</th>  <th>[0.025</th>    <th>0.975]</th>  \n",
       "</tr>\n",
       "<tr>\n",
       "  <th>intercept</th>   <td> 1.068e+05</td> <td> 1.29e+05</td> <td>    0.828</td> <td> 0.409</td> <td>-1.49e+05</td> <td> 3.62e+05</td>\n",
       "</tr>\n",
       "<tr>\n",
       "  <th>sq_mt_built</th> <td> 9686.1051</td> <td>  622.560</td> <td>   15.559</td> <td> 0.000</td> <td> 8452.212</td> <td> 1.09e+04</td>\n",
       "</tr>\n",
       "<tr>\n",
       "  <th>n_rooms</th>     <td>-2.292e+05</td> <td> 5.01e+04</td> <td>   -4.573</td> <td> 0.000</td> <td>-3.29e+05</td> <td> -1.3e+05</td>\n",
       "</tr>\n",
       "<tr>\n",
       "  <th>n_bathrooms</th> <td> 1.679e+05</td> <td> 4.41e+04</td> <td>    3.804</td> <td> 0.000</td> <td> 8.04e+04</td> <td> 2.55e+05</td>\n",
       "</tr>\n",
       "</table>\n",
       "<table class=\"simpletable\">\n",
       "<tr>\n",
       "  <th>Omnibus:</th>       <td>13.677</td> <th>  Durbin-Watson:     </th> <td>   2.217</td>\n",
       "</tr>\n",
       "<tr>\n",
       "  <th>Prob(Omnibus):</th> <td> 0.001</td> <th>  Jarque-Bera (JB):  </th> <td>  23.442</td>\n",
       "</tr>\n",
       "<tr>\n",
       "  <th>Skew:</th>          <td> 0.517</td> <th>  Prob(JB):          </th> <td>8.12e-06</td>\n",
       "</tr>\n",
       "<tr>\n",
       "  <th>Kurtosis:</th>      <td> 4.977</td> <th>  Cond. No.          </th> <td>    804.</td>\n",
       "</tr>\n",
       "</table><br/><br/>Notes:<br/>[1] Standard Errors assume that the covariance matrix of the errors is correctly specified."
      ],
      "text/latex": [
       "\\begin{center}\n",
       "\\begin{tabular}{lclc}\n",
       "\\toprule\n",
       "\\textbf{Dep. Variable:}    &    buy\\_price    & \\textbf{  R-squared:         } &     0.871   \\\\\n",
       "\\textbf{Model:}            &       OLS        & \\textbf{  Adj. R-squared:    } &     0.867   \\\\\n",
       "\\textbf{Method:}           &  Least Squares   & \\textbf{  F-statistic:       } &     245.2   \\\\\n",
       "\\textbf{Date:}             & Sat, 29 Jun 2024 & \\textbf{  Prob (F-statistic):} &  2.69e-48   \\\\\n",
       "\\textbf{Time:}             &     23:56:29     & \\textbf{  Log-Likelihood:    } &   -1639.7   \\\\\n",
       "\\textbf{No. Observations:} &         113      & \\textbf{  AIC:               } &     3287.   \\\\\n",
       "\\textbf{Df Residuals:}     &         109      & \\textbf{  BIC:               } &     3298.   \\\\\n",
       "\\textbf{Df Model:}         &           3      & \\textbf{                     } &             \\\\\n",
       "\\textbf{Covariance Type:}  &    nonrobust     & \\textbf{                     } &             \\\\\n",
       "\\bottomrule\n",
       "\\end{tabular}\n",
       "\\begin{tabular}{lcccccc}\n",
       "                       & \\textbf{coef} & \\textbf{std err} & \\textbf{t} & \\textbf{P$> |$t$|$} & \\textbf{[0.025} & \\textbf{0.975]}  \\\\\n",
       "\\midrule\n",
       "\\textbf{intercept}     &    1.068e+05  &     1.29e+05     &     0.828  &         0.409        &    -1.49e+05    &     3.62e+05     \\\\\n",
       "\\textbf{sq\\_mt\\_built} &    9686.1051  &      622.560     &    15.559  &         0.000        &     8452.212    &     1.09e+04     \\\\\n",
       "\\textbf{n\\_rooms}      &   -2.292e+05  &     5.01e+04     &    -4.573  &         0.000        &    -3.29e+05    &     -1.3e+05     \\\\\n",
       "\\textbf{n\\_bathrooms}  &    1.679e+05  &     4.41e+04     &     3.804  &         0.000        &     8.04e+04    &     2.55e+05     \\\\\n",
       "\\bottomrule\n",
       "\\end{tabular}\n",
       "\\begin{tabular}{lclc}\n",
       "\\textbf{Omnibus:}       & 13.677 & \\textbf{  Durbin-Watson:     } &    2.217  \\\\\n",
       "\\textbf{Prob(Omnibus):} &  0.001 & \\textbf{  Jarque-Bera (JB):  } &   23.442  \\\\\n",
       "\\textbf{Skew:}          &  0.517 & \\textbf{  Prob(JB):          } & 8.12e-06  \\\\\n",
       "\\textbf{Kurtosis:}      &  4.977 & \\textbf{  Cond. No.          } &     804.  \\\\\n",
       "\\bottomrule\n",
       "\\end{tabular}\n",
       "%\\caption{OLS Regression Results}\n",
       "\\end{center}\n",
       "\n",
       "Notes: \\newline\n",
       " [1] Standard Errors assume that the covariance matrix of the errors is correctly specified."
      ],
      "text/plain": [
       "<class 'statsmodels.iolib.summary.Summary'>\n",
       "\"\"\"\n",
       "                            OLS Regression Results                            \n",
       "==============================================================================\n",
       "Dep. Variable:              buy_price   R-squared:                       0.871\n",
       "Model:                            OLS   Adj. R-squared:                  0.867\n",
       "Method:                 Least Squares   F-statistic:                     245.2\n",
       "Date:                Sat, 29 Jun 2024   Prob (F-statistic):           2.69e-48\n",
       "Time:                        23:56:29   Log-Likelihood:                -1639.7\n",
       "No. Observations:                 113   AIC:                             3287.\n",
       "Df Residuals:                     109   BIC:                             3298.\n",
       "Df Model:                           3                                         \n",
       "Covariance Type:            nonrobust                                         \n",
       "===============================================================================\n",
       "                  coef    std err          t      P>|t|      [0.025      0.975]\n",
       "-------------------------------------------------------------------------------\n",
       "intercept    1.068e+05   1.29e+05      0.828      0.409   -1.49e+05    3.62e+05\n",
       "sq_mt_built  9686.1051    622.560     15.559      0.000    8452.212    1.09e+04\n",
       "n_rooms     -2.292e+05   5.01e+04     -4.573      0.000   -3.29e+05    -1.3e+05\n",
       "n_bathrooms  1.679e+05   4.41e+04      3.804      0.000    8.04e+04    2.55e+05\n",
       "==============================================================================\n",
       "Omnibus:                       13.677   Durbin-Watson:                   2.217\n",
       "Prob(Omnibus):                  0.001   Jarque-Bera (JB):               23.442\n",
       "Skew:                           0.517   Prob(JB):                     8.12e-06\n",
       "Kurtosis:                       4.977   Cond. No.                         804.\n",
       "==============================================================================\n",
       "\n",
       "Notes:\n",
       "[1] Standard Errors assume that the covariance matrix of the errors is correctly specified.\n",
       "\"\"\""
      ]
     },
     "execution_count": 63,
     "metadata": {},
     "output_type": "execute_result"
    }
   ],
   "source": [
    "lm=sm.OLS(reco['buy_price'],reco[['intercept','sq_mt_built','n_rooms','n_bathrooms']])\n",
    "result=lm.fit()\n",
    "result.summary()"
   ]
  },
  {
   "cell_type": "code",
   "execution_count": 65,
   "metadata": {},
   "outputs": [
    {
     "name": "stdout",
     "output_type": "stream",
     "text": [
      "2905829.08\n"
     ]
    }
   ],
   "source": [
    "x=300\n",
    "bath=3\n",
    "room=2\n",
    "price=1.06800000+9686.1051*300+-2.29200000*3+1.67900000*2\n",
    "print(price)"
   ]
  },
  {
   "cell_type": "markdown",
   "metadata": {},
   "source": [
    "Dummy Variables"
   ]
  },
  {
   "cell_type": "code",
   "execution_count": 67,
   "metadata": {},
   "outputs": [
    {
     "data": {
      "text/plain": [
       "146"
      ]
     },
     "execution_count": 67,
     "metadata": {},
     "output_type": "execute_result"
    }
   ],
   "source": [
    "df.country.nunique()"
   ]
  },
  {
   "cell_type": "code",
   "execution_count": 69,
   "metadata": {},
   "outputs": [
    {
     "data": {
      "text/html": [
       "<div>\n",
       "<style scoped>\n",
       "    .dataframe tbody tr th:only-of-type {\n",
       "        vertical-align: middle;\n",
       "    }\n",
       "\n",
       "    .dataframe tbody tr th {\n",
       "        vertical-align: top;\n",
       "    }\n",
       "\n",
       "    .dataframe thead th {\n",
       "        text-align: right;\n",
       "    }\n",
       "</style>\n",
       "<table border=\"1\" class=\"dataframe\">\n",
       "  <thead>\n",
       "    <tr style=\"text-align: right;\">\n",
       "      <th></th>\n",
       "      <th>id</th>\n",
       "      <th>sq_mt_built</th>\n",
       "      <th>n_rooms</th>\n",
       "      <th>n_bathrooms</th>\n",
       "      <th>buy_price</th>\n",
       "      <th>buy_price_by_area</th>\n",
       "      <th>rent_price</th>\n",
       "      <th>country</th>\n",
       "    </tr>\n",
       "  </thead>\n",
       "  <tbody>\n",
       "    <tr>\n",
       "      <th>10937</th>\n",
       "      <td>10805</td>\n",
       "      <td>68.0</td>\n",
       "      <td>2</td>\n",
       "      <td>1</td>\n",
       "      <td>510000</td>\n",
       "      <td>7500</td>\n",
       "      <td>0</td>\n",
       "      <td>Trafalgar</td>\n",
       "    </tr>\n",
       "    <tr>\n",
       "      <th>11000</th>\n",
       "      <td>10742</td>\n",
       "      <td>103.0</td>\n",
       "      <td>2</td>\n",
       "      <td>2</td>\n",
       "      <td>980000</td>\n",
       "      <td>9515</td>\n",
       "      <td>0</td>\n",
       "      <td>Trafalgar</td>\n",
       "    </tr>\n",
       "    <tr>\n",
       "      <th>11001</th>\n",
       "      <td>10741</td>\n",
       "      <td>103.0</td>\n",
       "      <td>2</td>\n",
       "      <td>2</td>\n",
       "      <td>960000</td>\n",
       "      <td>9320</td>\n",
       "      <td>0</td>\n",
       "      <td>Trafalgar</td>\n",
       "    </tr>\n",
       "    <tr>\n",
       "      <th>11010</th>\n",
       "      <td>10732</td>\n",
       "      <td>95.0</td>\n",
       "      <td>4</td>\n",
       "      <td>1</td>\n",
       "      <td>239000</td>\n",
       "      <td>2516</td>\n",
       "      <td>0</td>\n",
       "      <td>Trafalgar</td>\n",
       "    </tr>\n",
       "    <tr>\n",
       "      <th>11042</th>\n",
       "      <td>10700</td>\n",
       "      <td>67.0</td>\n",
       "      <td>2</td>\n",
       "      <td>2</td>\n",
       "      <td>550000</td>\n",
       "      <td>8209</td>\n",
       "      <td>0</td>\n",
       "      <td>Trafalgar</td>\n",
       "    </tr>\n",
       "  </tbody>\n",
       "</table>\n",
       "</div>"
      ],
      "text/plain": [
       "          id  sq_mt_built  n_rooms  n_bathrooms  buy_price  buy_price_by_area  \\\n",
       "10937  10805         68.0        2            1     510000               7500   \n",
       "11000  10742        103.0        2            2     980000               9515   \n",
       "11001  10741        103.0        2            2     960000               9320   \n",
       "11010  10732         95.0        4            1     239000               2516   \n",
       "11042  10700         67.0        2            2     550000               8209   \n",
       "\n",
       "       rent_price    country  \n",
       "10937           0  Trafalgar  \n",
       "11000           0  Trafalgar  \n",
       "11001           0  Trafalgar  \n",
       "11010           0  Trafalgar  \n",
       "11042           0  Trafalgar  "
      ]
     },
     "execution_count": 69,
     "metadata": {},
     "output_type": "execute_result"
    }
   ],
   "source": [
    "df_dummy=df.query('country in (\"Recoletos\",\"Castellana\",\"Trafalgar\")')\n",
    "df_dummy.head(5)"
   ]
  },
  {
   "cell_type": "code",
   "execution_count": 70,
   "metadata": {},
   "outputs": [
    {
     "data": {
      "text/html": [
       "<div>\n",
       "<style scoped>\n",
       "    .dataframe tbody tr th:only-of-type {\n",
       "        vertical-align: middle;\n",
       "    }\n",
       "\n",
       "    .dataframe tbody tr th {\n",
       "        vertical-align: top;\n",
       "    }\n",
       "\n",
       "    .dataframe thead th {\n",
       "        text-align: right;\n",
       "    }\n",
       "</style>\n",
       "<table border=\"1\" class=\"dataframe\">\n",
       "  <thead>\n",
       "    <tr style=\"text-align: right;\">\n",
       "      <th></th>\n",
       "      <th>Castellana</th>\n",
       "      <th>Recoletos</th>\n",
       "      <th>Trafalgar</th>\n",
       "    </tr>\n",
       "  </thead>\n",
       "  <tbody>\n",
       "    <tr>\n",
       "      <th>10937</th>\n",
       "      <td>False</td>\n",
       "      <td>False</td>\n",
       "      <td>True</td>\n",
       "    </tr>\n",
       "    <tr>\n",
       "      <th>11000</th>\n",
       "      <td>False</td>\n",
       "      <td>False</td>\n",
       "      <td>True</td>\n",
       "    </tr>\n",
       "    <tr>\n",
       "      <th>11001</th>\n",
       "      <td>False</td>\n",
       "      <td>False</td>\n",
       "      <td>True</td>\n",
       "    </tr>\n",
       "    <tr>\n",
       "      <th>11010</th>\n",
       "      <td>False</td>\n",
       "      <td>False</td>\n",
       "      <td>True</td>\n",
       "    </tr>\n",
       "    <tr>\n",
       "      <th>11042</th>\n",
       "      <td>False</td>\n",
       "      <td>False</td>\n",
       "      <td>True</td>\n",
       "    </tr>\n",
       "  </tbody>\n",
       "</table>\n",
       "</div>"
      ],
      "text/plain": [
       "       Castellana  Recoletos  Trafalgar\n",
       "10937       False      False       True\n",
       "11000       False      False       True\n",
       "11001       False      False       True\n",
       "11010       False      False       True\n",
       "11042       False      False       True"
      ]
     },
     "execution_count": 70,
     "metadata": {},
     "output_type": "execute_result"
    }
   ],
   "source": [
    "pd.get_dummies(df_dummy.country).head()"
   ]
  },
  {
   "cell_type": "code",
   "execution_count": 73,
   "metadata": {},
   "outputs": [],
   "source": [
    "df_dummy[['cas','reco','traf']]=pd.get_dummies(df_dummy['country'],dtype='int')"
   ]
  },
  {
   "cell_type": "code",
   "execution_count": 74,
   "metadata": {},
   "outputs": [
    {
     "data": {
      "text/html": [
       "<div>\n",
       "<style scoped>\n",
       "    .dataframe tbody tr th:only-of-type {\n",
       "        vertical-align: middle;\n",
       "    }\n",
       "\n",
       "    .dataframe tbody tr th {\n",
       "        vertical-align: top;\n",
       "    }\n",
       "\n",
       "    .dataframe thead th {\n",
       "        text-align: right;\n",
       "    }\n",
       "</style>\n",
       "<table border=\"1\" class=\"dataframe\">\n",
       "  <thead>\n",
       "    <tr style=\"text-align: right;\">\n",
       "      <th></th>\n",
       "      <th>id</th>\n",
       "      <th>sq_mt_built</th>\n",
       "      <th>n_rooms</th>\n",
       "      <th>n_bathrooms</th>\n",
       "      <th>buy_price</th>\n",
       "      <th>buy_price_by_area</th>\n",
       "      <th>rent_price</th>\n",
       "      <th>country</th>\n",
       "      <th>cas</th>\n",
       "      <th>reco</th>\n",
       "      <th>traf</th>\n",
       "    </tr>\n",
       "  </thead>\n",
       "  <tbody>\n",
       "    <tr>\n",
       "      <th>10937</th>\n",
       "      <td>10805</td>\n",
       "      <td>68.0</td>\n",
       "      <td>2</td>\n",
       "      <td>1</td>\n",
       "      <td>510000</td>\n",
       "      <td>7500</td>\n",
       "      <td>0</td>\n",
       "      <td>Trafalgar</td>\n",
       "      <td>0</td>\n",
       "      <td>0</td>\n",
       "      <td>1</td>\n",
       "    </tr>\n",
       "    <tr>\n",
       "      <th>11000</th>\n",
       "      <td>10742</td>\n",
       "      <td>103.0</td>\n",
       "      <td>2</td>\n",
       "      <td>2</td>\n",
       "      <td>980000</td>\n",
       "      <td>9515</td>\n",
       "      <td>0</td>\n",
       "      <td>Trafalgar</td>\n",
       "      <td>0</td>\n",
       "      <td>0</td>\n",
       "      <td>1</td>\n",
       "    </tr>\n",
       "    <tr>\n",
       "      <th>11001</th>\n",
       "      <td>10741</td>\n",
       "      <td>103.0</td>\n",
       "      <td>2</td>\n",
       "      <td>2</td>\n",
       "      <td>960000</td>\n",
       "      <td>9320</td>\n",
       "      <td>0</td>\n",
       "      <td>Trafalgar</td>\n",
       "      <td>0</td>\n",
       "      <td>0</td>\n",
       "      <td>1</td>\n",
       "    </tr>\n",
       "    <tr>\n",
       "      <th>11010</th>\n",
       "      <td>10732</td>\n",
       "      <td>95.0</td>\n",
       "      <td>4</td>\n",
       "      <td>1</td>\n",
       "      <td>239000</td>\n",
       "      <td>2516</td>\n",
       "      <td>0</td>\n",
       "      <td>Trafalgar</td>\n",
       "      <td>0</td>\n",
       "      <td>0</td>\n",
       "      <td>1</td>\n",
       "    </tr>\n",
       "    <tr>\n",
       "      <th>11042</th>\n",
       "      <td>10700</td>\n",
       "      <td>67.0</td>\n",
       "      <td>2</td>\n",
       "      <td>2</td>\n",
       "      <td>550000</td>\n",
       "      <td>8209</td>\n",
       "      <td>0</td>\n",
       "      <td>Trafalgar</td>\n",
       "      <td>0</td>\n",
       "      <td>0</td>\n",
       "      <td>1</td>\n",
       "    </tr>\n",
       "  </tbody>\n",
       "</table>\n",
       "</div>"
      ],
      "text/plain": [
       "          id  sq_mt_built  n_rooms  n_bathrooms  buy_price  buy_price_by_area  \\\n",
       "10937  10805         68.0        2            1     510000               7500   \n",
       "11000  10742        103.0        2            2     980000               9515   \n",
       "11001  10741        103.0        2            2     960000               9320   \n",
       "11010  10732         95.0        4            1     239000               2516   \n",
       "11042  10700         67.0        2            2     550000               8209   \n",
       "\n",
       "       rent_price    country  cas  reco  traf  \n",
       "10937           0  Trafalgar    0     0     1  \n",
       "11000           0  Trafalgar    0     0     1  \n",
       "11001           0  Trafalgar    0     0     1  \n",
       "11010           0  Trafalgar    0     0     1  \n",
       "11042           0  Trafalgar    0     0     1  "
      ]
     },
     "execution_count": 74,
     "metadata": {},
     "output_type": "execute_result"
    }
   ],
   "source": [
    "df_dummy.head()"
   ]
  },
  {
   "cell_type": "code",
   "execution_count": 75,
   "metadata": {},
   "outputs": [
    {
     "data": {
      "text/html": [
       "<table class=\"simpletable\">\n",
       "<caption>OLS Regression Results</caption>\n",
       "<tr>\n",
       "  <th>Dep. Variable:</th>        <td>buy_price</td>    <th>  R-squared:         </th> <td>   0.363</td> \n",
       "</tr>\n",
       "<tr>\n",
       "  <th>Model:</th>                   <td>OLS</td>       <th>  Adj. R-squared:    </th> <td>   0.360</td> \n",
       "</tr>\n",
       "<tr>\n",
       "  <th>Method:</th>             <td>Least Squares</td>  <th>  F-statistic:       </th> <td>   114.3</td> \n",
       "</tr>\n",
       "<tr>\n",
       "  <th>Date:</th>             <td>Sun, 30 Jun 2024</td> <th>  Prob (F-statistic):</th> <td>5.20e-40</td> \n",
       "</tr>\n",
       "<tr>\n",
       "  <th>Time:</th>                 <td>00:17:43</td>     <th>  Log-Likelihood:    </th> <td> -6095.1</td> \n",
       "</tr>\n",
       "<tr>\n",
       "  <th>No. Observations:</th>      <td>   404</td>      <th>  AIC:               </th> <td>1.220e+04</td>\n",
       "</tr>\n",
       "<tr>\n",
       "  <th>Df Residuals:</th>          <td>   401</td>      <th>  BIC:               </th> <td>1.221e+04</td>\n",
       "</tr>\n",
       "<tr>\n",
       "  <th>Df Model:</th>              <td>     2</td>      <th>                     </th>     <td> </td>    \n",
       "</tr>\n",
       "<tr>\n",
       "  <th>Covariance Type:</th>      <td>nonrobust</td>    <th>                     </th>     <td> </td>    \n",
       "</tr>\n",
       "</table>\n",
       "<table class=\"simpletable\">\n",
       "<tr>\n",
       "      <td></td>         <th>coef</th>     <th>std err</th>      <th>t</th>      <th>P>|t|</th>  <th>[0.025</th>    <th>0.975]</th>  \n",
       "</tr>\n",
       "<tr>\n",
       "  <th>intercept</th> <td> 2.155e+06</td> <td> 8.15e+04</td> <td>   26.448</td> <td> 0.000</td> <td> 1.99e+06</td> <td> 2.32e+06</td>\n",
       "</tr>\n",
       "<tr>\n",
       "  <th>cas</th>       <td>-7.785e+05</td> <td> 1.27e+05</td> <td>   -6.129</td> <td> 0.000</td> <td>-1.03e+06</td> <td>-5.29e+05</td>\n",
       "</tr>\n",
       "<tr>\n",
       "  <th>traf</th>      <td>-1.513e+06</td> <td> 1.01e+05</td> <td>  -14.998</td> <td> 0.000</td> <td>-1.71e+06</td> <td>-1.31e+06</td>\n",
       "</tr>\n",
       "</table>\n",
       "<table class=\"simpletable\">\n",
       "<tr>\n",
       "  <th>Omnibus:</th>       <td>158.066</td> <th>  Durbin-Watson:     </th> <td>   2.012</td> \n",
       "</tr>\n",
       "<tr>\n",
       "  <th>Prob(Omnibus):</th> <td> 0.000</td>  <th>  Jarque-Bera (JB):  </th> <td> 761.523</td> \n",
       "</tr>\n",
       "<tr>\n",
       "  <th>Skew:</th>          <td> 1.636</td>  <th>  Prob(JB):          </th> <td>4.34e-166</td>\n",
       "</tr>\n",
       "<tr>\n",
       "  <th>Kurtosis:</th>      <td> 8.876</td>  <th>  Cond. No.          </th> <td>    4.29</td> \n",
       "</tr>\n",
       "</table><br/><br/>Notes:<br/>[1] Standard Errors assume that the covariance matrix of the errors is correctly specified."
      ],
      "text/latex": [
       "\\begin{center}\n",
       "\\begin{tabular}{lclc}\n",
       "\\toprule\n",
       "\\textbf{Dep. Variable:}    &    buy\\_price    & \\textbf{  R-squared:         } &     0.363   \\\\\n",
       "\\textbf{Model:}            &       OLS        & \\textbf{  Adj. R-squared:    } &     0.360   \\\\\n",
       "\\textbf{Method:}           &  Least Squares   & \\textbf{  F-statistic:       } &     114.3   \\\\\n",
       "\\textbf{Date:}             & Sun, 30 Jun 2024 & \\textbf{  Prob (F-statistic):} &  5.20e-40   \\\\\n",
       "\\textbf{Time:}             &     00:17:43     & \\textbf{  Log-Likelihood:    } &   -6095.1   \\\\\n",
       "\\textbf{No. Observations:} &         404      & \\textbf{  AIC:               } & 1.220e+04   \\\\\n",
       "\\textbf{Df Residuals:}     &         401      & \\textbf{  BIC:               } & 1.221e+04   \\\\\n",
       "\\textbf{Df Model:}         &           2      & \\textbf{                     } &             \\\\\n",
       "\\textbf{Covariance Type:}  &    nonrobust     & \\textbf{                     } &             \\\\\n",
       "\\bottomrule\n",
       "\\end{tabular}\n",
       "\\begin{tabular}{lcccccc}\n",
       "                   & \\textbf{coef} & \\textbf{std err} & \\textbf{t} & \\textbf{P$> |$t$|$} & \\textbf{[0.025} & \\textbf{0.975]}  \\\\\n",
       "\\midrule\n",
       "\\textbf{intercept} &    2.155e+06  &     8.15e+04     &    26.448  &         0.000        &     1.99e+06    &     2.32e+06     \\\\\n",
       "\\textbf{cas}       &   -7.785e+05  &     1.27e+05     &    -6.129  &         0.000        &    -1.03e+06    &    -5.29e+05     \\\\\n",
       "\\textbf{traf}      &   -1.513e+06  &     1.01e+05     &   -14.998  &         0.000        &    -1.71e+06    &    -1.31e+06     \\\\\n",
       "\\bottomrule\n",
       "\\end{tabular}\n",
       "\\begin{tabular}{lclc}\n",
       "\\textbf{Omnibus:}       & 158.066 & \\textbf{  Durbin-Watson:     } &     2.012  \\\\\n",
       "\\textbf{Prob(Omnibus):} &   0.000 & \\textbf{  Jarque-Bera (JB):  } &   761.523  \\\\\n",
       "\\textbf{Skew:}          &   1.636 & \\textbf{  Prob(JB):          } & 4.34e-166  \\\\\n",
       "\\textbf{Kurtosis:}      &   8.876 & \\textbf{  Cond. No.          } &      4.29  \\\\\n",
       "\\bottomrule\n",
       "\\end{tabular}\n",
       "%\\caption{OLS Regression Results}\n",
       "\\end{center}\n",
       "\n",
       "Notes: \\newline\n",
       " [1] Standard Errors assume that the covariance matrix of the errors is correctly specified."
      ],
      "text/plain": [
       "<class 'statsmodels.iolib.summary.Summary'>\n",
       "\"\"\"\n",
       "                            OLS Regression Results                            \n",
       "==============================================================================\n",
       "Dep. Variable:              buy_price   R-squared:                       0.363\n",
       "Model:                            OLS   Adj. R-squared:                  0.360\n",
       "Method:                 Least Squares   F-statistic:                     114.3\n",
       "Date:                Sun, 30 Jun 2024   Prob (F-statistic):           5.20e-40\n",
       "Time:                        00:17:43   Log-Likelihood:                -6095.1\n",
       "No. Observations:                 404   AIC:                         1.220e+04\n",
       "Df Residuals:                     401   BIC:                         1.221e+04\n",
       "Df Model:                           2                                         \n",
       "Covariance Type:            nonrobust                                         \n",
       "==============================================================================\n",
       "                 coef    std err          t      P>|t|      [0.025      0.975]\n",
       "------------------------------------------------------------------------------\n",
       "intercept   2.155e+06   8.15e+04     26.448      0.000    1.99e+06    2.32e+06\n",
       "cas        -7.785e+05   1.27e+05     -6.129      0.000   -1.03e+06   -5.29e+05\n",
       "traf       -1.513e+06   1.01e+05    -14.998      0.000   -1.71e+06   -1.31e+06\n",
       "==============================================================================\n",
       "Omnibus:                      158.066   Durbin-Watson:                   2.012\n",
       "Prob(Omnibus):                  0.000   Jarque-Bera (JB):              761.523\n",
       "Skew:                           1.636   Prob(JB):                    4.34e-166\n",
       "Kurtosis:                       8.876   Cond. No.                         4.29\n",
       "==============================================================================\n",
       "\n",
       "Notes:\n",
       "[1] Standard Errors assume that the covariance matrix of the errors is correctly specified.\n",
       "\"\"\""
      ]
     },
     "execution_count": 75,
     "metadata": {},
     "output_type": "execute_result"
    }
   ],
   "source": [
    "df_dummy['intercept']=1\n",
    "lm=sm.OLS(df_dummy.buy_price,df_dummy[['intercept','cas','traf']])\n",
    "result=lm.fit()\n",
    "result.summary()"
   ]
  },
  {
   "cell_type": "code",
   "execution_count": 76,
   "metadata": {},
   "outputs": [
    {
     "data": {
      "text/html": [
       "<table class=\"simpletable\">\n",
       "<caption>OLS Regression Results</caption>\n",
       "<tr>\n",
       "  <th>Dep. Variable:</th>        <td>buy_price</td>    <th>  R-squared:         </th> <td>   0.866</td> \n",
       "</tr>\n",
       "<tr>\n",
       "  <th>Model:</th>                   <td>OLS</td>       <th>  Adj. R-squared:    </th> <td>   0.865</td> \n",
       "</tr>\n",
       "<tr>\n",
       "  <th>Method:</th>             <td>Least Squares</td>  <th>  F-statistic:       </th> <td>   859.3</td> \n",
       "</tr>\n",
       "<tr>\n",
       "  <th>Date:</th>             <td>Sun, 30 Jun 2024</td> <th>  Prob (F-statistic):</th> <td>6.30e-174</td>\n",
       "</tr>\n",
       "<tr>\n",
       "  <th>Time:</th>                 <td>00:18:57</td>     <th>  Log-Likelihood:    </th> <td> -5780.8</td> \n",
       "</tr>\n",
       "<tr>\n",
       "  <th>No. Observations:</th>      <td>   404</td>      <th>  AIC:               </th> <td>1.157e+04</td>\n",
       "</tr>\n",
       "<tr>\n",
       "  <th>Df Residuals:</th>          <td>   400</td>      <th>  BIC:               </th> <td>1.159e+04</td>\n",
       "</tr>\n",
       "<tr>\n",
       "  <th>Df Model:</th>              <td>     3</td>      <th>                     </th>     <td> </td>    \n",
       "</tr>\n",
       "<tr>\n",
       "  <th>Covariance Type:</th>      <td>nonrobust</td>    <th>                     </th>     <td> </td>    \n",
       "</tr>\n",
       "</table>\n",
       "<table class=\"simpletable\">\n",
       "<tr>\n",
       "       <td></td>          <th>coef</th>     <th>std err</th>      <th>t</th>      <th>P>|t|</th>  <th>[0.025</th>    <th>0.975]</th>  \n",
       "</tr>\n",
       "<tr>\n",
       "  <th>intercept</th>   <td> 2.774e+05</td> <td> 6.13e+04</td> <td>    4.524</td> <td> 0.000</td> <td> 1.57e+05</td> <td> 3.98e+05</td>\n",
       "</tr>\n",
       "<tr>\n",
       "  <th>cas</th>         <td>-3.712e+05</td> <td> 5.93e+04</td> <td>   -6.254</td> <td> 0.000</td> <td>-4.88e+05</td> <td>-2.55e+05</td>\n",
       "</tr>\n",
       "<tr>\n",
       "  <th>traf</th>        <td>-4.262e+05</td> <td> 5.42e+04</td> <td>   -7.859</td> <td> 0.000</td> <td>-5.33e+05</td> <td> -3.2e+05</td>\n",
       "</tr>\n",
       "<tr>\n",
       "  <th>sq_mt_built</th> <td> 7665.9496</td> <td>  198.152</td> <td>   38.687</td> <td> 0.000</td> <td> 7276.400</td> <td> 8055.500</td>\n",
       "</tr>\n",
       "</table>\n",
       "<table class=\"simpletable\">\n",
       "<tr>\n",
       "  <th>Omnibus:</th>       <td>119.712</td> <th>  Durbin-Watson:     </th> <td>   2.133</td> \n",
       "</tr>\n",
       "<tr>\n",
       "  <th>Prob(Omnibus):</th> <td> 0.000</td>  <th>  Jarque-Bera (JB):  </th> <td> 724.118</td> \n",
       "</tr>\n",
       "<tr>\n",
       "  <th>Skew:</th>          <td> 1.112</td>  <th>  Prob(JB):          </th> <td>5.75e-158</td>\n",
       "</tr>\n",
       "<tr>\n",
       "  <th>Kurtosis:</th>      <td> 9.170</td>  <th>  Cond. No.          </th> <td>    881.</td> \n",
       "</tr>\n",
       "</table><br/><br/>Notes:<br/>[1] Standard Errors assume that the covariance matrix of the errors is correctly specified."
      ],
      "text/latex": [
       "\\begin{center}\n",
       "\\begin{tabular}{lclc}\n",
       "\\toprule\n",
       "\\textbf{Dep. Variable:}    &    buy\\_price    & \\textbf{  R-squared:         } &     0.866   \\\\\n",
       "\\textbf{Model:}            &       OLS        & \\textbf{  Adj. R-squared:    } &     0.865   \\\\\n",
       "\\textbf{Method:}           &  Least Squares   & \\textbf{  F-statistic:       } &     859.3   \\\\\n",
       "\\textbf{Date:}             & Sun, 30 Jun 2024 & \\textbf{  Prob (F-statistic):} & 6.30e-174   \\\\\n",
       "\\textbf{Time:}             &     00:18:57     & \\textbf{  Log-Likelihood:    } &   -5780.8   \\\\\n",
       "\\textbf{No. Observations:} &         404      & \\textbf{  AIC:               } & 1.157e+04   \\\\\n",
       "\\textbf{Df Residuals:}     &         400      & \\textbf{  BIC:               } & 1.159e+04   \\\\\n",
       "\\textbf{Df Model:}         &           3      & \\textbf{                     } &             \\\\\n",
       "\\textbf{Covariance Type:}  &    nonrobust     & \\textbf{                     } &             \\\\\n",
       "\\bottomrule\n",
       "\\end{tabular}\n",
       "\\begin{tabular}{lcccccc}\n",
       "                       & \\textbf{coef} & \\textbf{std err} & \\textbf{t} & \\textbf{P$> |$t$|$} & \\textbf{[0.025} & \\textbf{0.975]}  \\\\\n",
       "\\midrule\n",
       "\\textbf{intercept}     &    2.774e+05  &     6.13e+04     &     4.524  &         0.000        &     1.57e+05    &     3.98e+05     \\\\\n",
       "\\textbf{cas}           &   -3.712e+05  &     5.93e+04     &    -6.254  &         0.000        &    -4.88e+05    &    -2.55e+05     \\\\\n",
       "\\textbf{traf}          &   -4.262e+05  &     5.42e+04     &    -7.859  &         0.000        &    -5.33e+05    &     -3.2e+05     \\\\\n",
       "\\textbf{sq\\_mt\\_built} &    7665.9496  &      198.152     &    38.687  &         0.000        &     7276.400    &     8055.500     \\\\\n",
       "\\bottomrule\n",
       "\\end{tabular}\n",
       "\\begin{tabular}{lclc}\n",
       "\\textbf{Omnibus:}       & 119.712 & \\textbf{  Durbin-Watson:     } &     2.133  \\\\\n",
       "\\textbf{Prob(Omnibus):} &   0.000 & \\textbf{  Jarque-Bera (JB):  } &   724.118  \\\\\n",
       "\\textbf{Skew:}          &   1.112 & \\textbf{  Prob(JB):          } & 5.75e-158  \\\\\n",
       "\\textbf{Kurtosis:}      &   9.170 & \\textbf{  Cond. No.          } &      881.  \\\\\n",
       "\\bottomrule\n",
       "\\end{tabular}\n",
       "%\\caption{OLS Regression Results}\n",
       "\\end{center}\n",
       "\n",
       "Notes: \\newline\n",
       " [1] Standard Errors assume that the covariance matrix of the errors is correctly specified."
      ],
      "text/plain": [
       "<class 'statsmodels.iolib.summary.Summary'>\n",
       "\"\"\"\n",
       "                            OLS Regression Results                            \n",
       "==============================================================================\n",
       "Dep. Variable:              buy_price   R-squared:                       0.866\n",
       "Model:                            OLS   Adj. R-squared:                  0.865\n",
       "Method:                 Least Squares   F-statistic:                     859.3\n",
       "Date:                Sun, 30 Jun 2024   Prob (F-statistic):          6.30e-174\n",
       "Time:                        00:18:57   Log-Likelihood:                -5780.8\n",
       "No. Observations:                 404   AIC:                         1.157e+04\n",
       "Df Residuals:                     400   BIC:                         1.159e+04\n",
       "Df Model:                           3                                         \n",
       "Covariance Type:            nonrobust                                         \n",
       "===============================================================================\n",
       "                  coef    std err          t      P>|t|      [0.025      0.975]\n",
       "-------------------------------------------------------------------------------\n",
       "intercept    2.774e+05   6.13e+04      4.524      0.000    1.57e+05    3.98e+05\n",
       "cas         -3.712e+05   5.93e+04     -6.254      0.000   -4.88e+05   -2.55e+05\n",
       "traf        -4.262e+05   5.42e+04     -7.859      0.000   -5.33e+05    -3.2e+05\n",
       "sq_mt_built  7665.9496    198.152     38.687      0.000    7276.400    8055.500\n",
       "==============================================================================\n",
       "Omnibus:                      119.712   Durbin-Watson:                   2.133\n",
       "Prob(Omnibus):                  0.000   Jarque-Bera (JB):              724.118\n",
       "Skew:                           1.112   Prob(JB):                    5.75e-158\n",
       "Kurtosis:                       9.170   Cond. No.                         881.\n",
       "==============================================================================\n",
       "\n",
       "Notes:\n",
       "[1] Standard Errors assume that the covariance matrix of the errors is correctly specified.\n",
       "\"\"\""
      ]
     },
     "execution_count": 76,
     "metadata": {},
     "output_type": "execute_result"
    }
   ],
   "source": [
    "df_dummy['intercept']=1\n",
    "lm=sm.OLS(df_dummy.buy_price,df_dummy[['intercept','cas','traf','sq_mt_built']])\n",
    "result=lm.fit()\n",
    "result.summary()"
   ]
  },
  {
   "cell_type": "code",
   "execution_count": 77,
   "metadata": {},
   "outputs": [
    {
     "name": "stdout",
     "output_type": "stream",
     "text": [
      "<class 'pandas.core.frame.DataFrame'>\n",
      "Index: 21177 entries, 0 to 21741\n",
      "Data columns (total 8 columns):\n",
      " #   Column             Non-Null Count  Dtype  \n",
      "---  ------             --------------  -----  \n",
      " 0   id                 21177 non-null  int64  \n",
      " 1   sq_mt_built        21177 non-null  float64\n",
      " 2   n_rooms            21177 non-null  int64  \n",
      " 3   n_bathrooms        21177 non-null  int32  \n",
      " 4   buy_price          21177 non-null  int64  \n",
      " 5   buy_price_by_area  21177 non-null  int64  \n",
      " 6   rent_price         21177 non-null  int64  \n",
      " 7   country            21177 non-null  object \n",
      "dtypes: float64(1), int32(1), int64(5), object(1)\n",
      "memory usage: 1.4+ MB\n"
     ]
    }
   ],
   "source": [
    "df.info()"
   ]
  },
  {
   "cell_type": "code",
   "execution_count": 78,
   "metadata": {},
   "outputs": [],
   "source": [
    "df.drop(columns='country',inplace=True)"
   ]
  },
  {
   "cell_type": "code",
   "execution_count": 79,
   "metadata": {},
   "outputs": [
    {
     "name": "stdout",
     "output_type": "stream",
     "text": [
      "<class 'pandas.core.frame.DataFrame'>\n",
      "Index: 21177 entries, 0 to 21741\n",
      "Data columns (total 7 columns):\n",
      " #   Column             Non-Null Count  Dtype  \n",
      "---  ------             --------------  -----  \n",
      " 0   id                 21177 non-null  int64  \n",
      " 1   sq_mt_built        21177 non-null  float64\n",
      " 2   n_rooms            21177 non-null  int64  \n",
      " 3   n_bathrooms        21177 non-null  int32  \n",
      " 4   buy_price          21177 non-null  int64  \n",
      " 5   buy_price_by_area  21177 non-null  int64  \n",
      " 6   rent_price         21177 non-null  int64  \n",
      "dtypes: float64(1), int32(1), int64(5)\n",
      "memory usage: 1.2 MB\n"
     ]
    }
   ],
   "source": [
    "df.info()"
   ]
  }
 ],
 "metadata": {
  "kernelspec": {
   "display_name": "Python 3",
   "language": "python",
   "name": "python3"
  },
  "language_info": {
   "codemirror_mode": {
    "name": "ipython",
    "version": 3
   },
   "file_extension": ".py",
   "mimetype": "text/x-python",
   "name": "python",
   "nbconvert_exporter": "python",
   "pygments_lexer": "ipython3",
   "version": "3.12.3"
  }
 },
 "nbformat": 4,
 "nbformat_minor": 2
}
